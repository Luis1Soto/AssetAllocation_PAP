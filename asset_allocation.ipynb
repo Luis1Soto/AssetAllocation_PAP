{
 "cells": [
  {
   "cell_type": "markdown",
   "id": "78914184",
   "metadata": {},
   "source": [
    "PAP"
   ]
  },
  {
   "cell_type": "code",
   "execution_count": 1,
   "id": "f5ac6342",
   "metadata": {},
   "outputs": [
    {
     "name": "stderr",
     "output_type": "stream",
     "text": [
      "C:\\Users\\pmonr\\anaconda3\\lib\\site-packages\\pandas\\core\\computation\\expressions.py:21: UserWarning: Pandas requires version '2.8.4' or newer of 'numexpr' (version '2.8.3' currently installed).\n",
      "  from pandas.core.computation.check import NUMEXPR_INSTALLED\n",
      "C:\\Users\\pmonr\\anaconda3\\lib\\site-packages\\pandas\\core\\arrays\\masked.py:60: UserWarning: Pandas requires version '1.3.6' or newer of 'bottleneck' (version '1.3.5' currently installed).\n",
      "  from pandas.core import (\n"
     ]
    }
   ],
   "source": [
    "import yfinance as yf\n",
    "import pandas as pd\n",
    "import numpy as np \n",
    "import warnings\n",
    "warnings.filterwarnings('ignore')\n",
    "\n",
    "from AA import DataDownloader, AssetAllocation, HierarchicalRiskParity"
   ]
  },
  {
   "cell_type": "code",
   "execution_count": 2,
   "id": "09a664d0",
   "metadata": {},
   "outputs": [
    {
     "name": "stderr",
     "output_type": "stream",
     "text": [
      "[*********************100%%**********************]  5 of 5 completed\n",
      "[*********************100%%**********************]  1 of 1 completed\n"
     ]
    }
   ],
   "source": [
    "from AA import DataDownloader, AssetAllocation, HierarchicalRiskParity\n",
    "downloader = DataDownloader()\n",
    "\n",
    "assets = ['AAPL', 'IBM', 'TSLA', 'GOOG', 'NVDA'] \n",
    "benchmark = '^GSPC'  \n",
    "start_date = '2019-01-01'\n",
    "end_date = '2023-12-31'\n",
    "rf = .065\n",
    "ff_factors_expectations = {'Mkt-RF': 0.05, 'SMB': 0.02, 'HML': 0.03, 'RF': 0.02}\n",
    "\n",
    "asset_prices, benchmark_prices, ff_factors = downloader.download_data(start_date=start_date, end_date=end_date,\n",
    "                                                                      assets=assets, benchmark=benchmark)\n",
    "\n",
    "# Default limits for every asset (min 1% - max 100%):  boounds = tuple((0.01, 1) for _ in range(self.num_assets))\n",
    "Asset_allocation = AssetAllocation(asset_prices=asset_prices, benchmark_prices=benchmark_prices, rf=rf, ff_factors=ff_factors) \n",
    "Asset_allocation.calculate_ff_expected_returns(ff_factors_expectations)"
   ]
  },
  {
   "cell_type": "code",
   "execution_count": 3,
   "id": "7bdfa758",
   "metadata": {},
   "outputs": [],
   "source": [
    "# Set Black-Litterman Expectations (Optional) \n",
    "\n",
    "P = np.array([\n",
    "    [1, 0, 0, -1, 0],  \n",
    "    [0, 1, -1, 0, 0],\n",
    "    [0, 0, 0, 0, 1],\n",
    "])\n",
    "\n",
    "Q = np.array([0.05,  \n",
    "              0.03,\n",
    "              -0.15])  \n",
    "\n",
    "Omega = np.diag([0.1**2, 0.15**2, 0.08**2])  # Incertidumbre en las vistas\n",
    "tau = 0.08  # Incertidumbre en los rendimientos de equilibrio\n",
    "\n",
    "Asset_allocation.set_blacklitterman_expectations(P, Q, tau, Omega)"
   ]
  },
  {
   "cell_type": "code",
   "execution_count": 4,
   "id": "74b13709",
   "metadata": {
    "scrolled": false
   },
   "outputs": [
    {
     "ename": "AttributeError",
     "evalue": "'Series' object has no attribute 'append'",
     "output_type": "error",
     "traceback": [
      "\u001b[1;31m---------------------------------------------------------------------------\u001b[0m",
      "\u001b[1;31mAttributeError\u001b[0m                            Traceback (most recent call last)",
      "\u001b[1;32m~\\AppData\\Local\\Temp\\ipykernel_2696\\4261337430.py\u001b[0m in \u001b[0;36m<module>\u001b[1;34m\u001b[0m\n\u001b[1;32m----> 1\u001b[1;33m \u001b[0mAsset_allocation\u001b[0m\u001b[1;33m.\u001b[0m\u001b[0mOptimize_Portfolio\u001b[0m\u001b[1;33m(\u001b[0m\u001b[0mn_simulations\u001b[0m \u001b[1;33m=\u001b[0m \u001b[1;36m10000\u001b[0m\u001b[1;33m)\u001b[0m \u001b[1;31m#Default Method == \"Montecarlo\"\u001b[0m\u001b[1;33m\u001b[0m\u001b[1;33m\u001b[0m\u001b[0m\n\u001b[0m",
      "\u001b[1;32m~\\Downloads\\AssetAllocation_PAP\\AA.py\u001b[0m in \u001b[0;36mOptimize_Portfolio\u001b[1;34m(self, method, **kwargs)\u001b[0m\n\u001b[0;32m    934\u001b[0m         \u001b[1;31m# HRP\u001b[0m\u001b[1;33m\u001b[0m\u001b[1;33m\u001b[0m\u001b[0m\n\u001b[0;32m    935\u001b[0m         \u001b[0mhrp_weights\u001b[0m \u001b[1;33m=\u001b[0m \u001b[0mself\u001b[0m\u001b[1;33m.\u001b[0m\u001b[0mcalculate_hrp_weights\u001b[0m\u001b[1;33m(\u001b[0m\u001b[1;33m)\u001b[0m\u001b[1;33m\u001b[0m\u001b[1;33m\u001b[0m\u001b[0m\n\u001b[1;32m--> 936\u001b[1;33m         \u001b[0mresults_df\u001b[0m\u001b[1;33m.\u001b[0m\u001b[0mloc\u001b[0m\u001b[1;33m[\u001b[0m\u001b[1;34m'HRP'\u001b[0m\u001b[1;33m]\u001b[0m \u001b[1;33m=\u001b[0m \u001b[0mhrp_weights\u001b[0m\u001b[1;33m.\u001b[0m\u001b[0mappend\u001b[0m\u001b[1;33m(\u001b[0m\u001b[0mpd\u001b[0m\u001b[1;33m.\u001b[0m\u001b[0mSeries\u001b[0m\u001b[1;33m(\u001b[0m\u001b[1;33m{\u001b[0m\u001b[1;34m\"Optimized Value\"\u001b[0m\u001b[1;33m:\u001b[0m \u001b[0mnp\u001b[0m\u001b[1;33m.\u001b[0m\u001b[0mnan\u001b[0m\u001b[1;33m}\u001b[0m\u001b[1;33m)\u001b[0m\u001b[1;33m)\u001b[0m\u001b[1;33m\u001b[0m\u001b[1;33m\u001b[0m\u001b[0m\n\u001b[0m\u001b[0;32m    937\u001b[0m \u001b[1;33m\u001b[0m\u001b[0m\n\u001b[0;32m    938\u001b[0m         \u001b[1;32mreturn\u001b[0m \u001b[0mresults_df\u001b[0m\u001b[1;33m\u001b[0m\u001b[1;33m\u001b[0m\u001b[0m\n",
      "\u001b[1;32m~\\anaconda3\\lib\\site-packages\\pandas\\core\\generic.py\u001b[0m in \u001b[0;36m__getattr__\u001b[1;34m(self, name)\u001b[0m\n\u001b[0;32m   6291\u001b[0m         ):\n\u001b[0;32m   6292\u001b[0m             \u001b[1;32mreturn\u001b[0m \u001b[0mself\u001b[0m\u001b[1;33m[\u001b[0m\u001b[0mname\u001b[0m\u001b[1;33m]\u001b[0m\u001b[1;33m\u001b[0m\u001b[1;33m\u001b[0m\u001b[0m\n\u001b[1;32m-> 6293\u001b[1;33m         \u001b[1;32mreturn\u001b[0m \u001b[0mobject\u001b[0m\u001b[1;33m.\u001b[0m\u001b[0m__getattribute__\u001b[0m\u001b[1;33m(\u001b[0m\u001b[0mself\u001b[0m\u001b[1;33m,\u001b[0m \u001b[0mname\u001b[0m\u001b[1;33m)\u001b[0m\u001b[1;33m\u001b[0m\u001b[1;33m\u001b[0m\u001b[0m\n\u001b[0m\u001b[0;32m   6294\u001b[0m \u001b[1;33m\u001b[0m\u001b[0m\n\u001b[0;32m   6295\u001b[0m     \u001b[1;33m@\u001b[0m\u001b[0mfinal\u001b[0m\u001b[1;33m\u001b[0m\u001b[1;33m\u001b[0m\u001b[0m\n",
      "\u001b[1;31mAttributeError\u001b[0m: 'Series' object has no attribute 'append'"
     ]
    }
   ],
   "source": [
    "Asset_allocation.Optimize_Portfolio(n_simulations = 10000) #Default Method == \"Montecarlo\""
   ]
  },
  {
   "cell_type": "code",
   "execution_count": null,
   "id": "734aede0",
   "metadata": {},
   "outputs": [],
   "source": [
    "Asset_allocation.Optimize_Portfolio(method = \"SLSQP\")"
   ]
  },
  {
   "cell_type": "code",
   "execution_count": null,
   "id": "efab7a62",
   "metadata": {},
   "outputs": [],
   "source": [
    "Asset_allocation.Optimize_Portfolio(method = \"Genetic\", population_size=100, generations=200, crossover_rate=0.7, mutation_rate=0.1)"
   ]
  },
  {
   "cell_type": "code",
   "execution_count": null,
   "id": "d582dc05",
   "metadata": {},
   "outputs": [],
   "source": [
    "Asset_allocation.Optimize_Portfolio(method = \"Gradient\", learning_rate=0.01, max_iters=1000, tol=1e-6)"
   ]
  },
  {
   "cell_type": "markdown",
   "id": "71cab513",
   "metadata": {},
   "source": [
    "-----"
   ]
  },
  {
   "cell_type": "markdown",
   "id": "ec53dc1c",
   "metadata": {},
   "source": [
    "-------"
   ]
  },
  {
   "cell_type": "code",
   "execution_count": null,
   "id": "bf79ce49",
   "metadata": {},
   "outputs": [],
   "source": []
  },
  {
   "cell_type": "code",
   "execution_count": null,
   "id": "b72c22a5",
   "metadata": {},
   "outputs": [],
   "source": []
  },
  {
   "cell_type": "code",
   "execution_count": null,
   "id": "c1ee6e56",
   "metadata": {},
   "outputs": [],
   "source": []
  },
  {
   "cell_type": "markdown",
   "id": "1f1327ef",
   "metadata": {},
   "source": [
    "--------------"
   ]
  },
  {
   "cell_type": "markdown",
   "id": "448b6b66",
   "metadata": {},
   "source": [
    "----------"
   ]
  }
 ],
 "metadata": {
  "kernelspec": {
   "display_name": "Python 3 (ipykernel)",
   "language": "python",
   "name": "python3"
  },
  "language_info": {
   "codemirror_mode": {
    "name": "ipython",
    "version": 3
   },
   "file_extension": ".py",
   "mimetype": "text/x-python",
   "name": "python",
   "nbconvert_exporter": "python",
   "pygments_lexer": "ipython3",
   "version": "3.9.13"
  }
 },
 "nbformat": 4,
 "nbformat_minor": 5
}
