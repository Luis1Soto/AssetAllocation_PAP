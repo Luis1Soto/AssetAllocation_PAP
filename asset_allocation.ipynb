{
 "cells": [
  {
   "cell_type": "code",
   "execution_count": 1,
   "id": "f5ac6342",
   "metadata": {},
   "outputs": [],
   "source": [
    "import yfinance as yf\n",
    "import pandas as pd\n",
    "import numpy as np \n",
    "import warnings\n",
    "warnings.filterwarnings('ignore')\n",
    "\n",
    "from AA import AssetDataDownloader, AssetAllocation"
   ]
  },
  {
   "cell_type": "code",
   "execution_count": 2,
   "id": "09a664d0",
   "metadata": {},
   "outputs": [
    {
     "name": "stdout",
     "output_type": "stream",
     "text": [
      "[*********************100%%**********************]  7 of 7 completed\n",
      "[*********************100%%**********************]  1 of 1 completed\n"
     ]
    }
   ],
   "source": [
    "downloader = AssetDataDownloader()\n",
    "\n",
    "assets = [\"MSFT\", \"COST\", \"GOOG\", \"SYK\", \"FANG\", \"ODFL\", \"AAPL\"] \n",
    "benchmark = '^GSPC'  \n",
    "start_date = '2019-01-01'\n",
    "end_date = '2023-12-31'\n",
    "rf = .065\n",
    "\n",
    "asset_prices, benchmark_prices = downloader.download_data(start_date= start_date, end_date= end_date,\n",
    "                                                          assets= assets, benchmark=benchmark)\n",
    "\n",
    "Asset_allocator = AssetAllocation(asset_prices = asset_prices,benchmark_prices = benchmark_prices, rf=rf)"
   ]
  },
  {
   "cell_type": "code",
   "execution_count": 4,
   "id": "ff401dfa",
   "metadata": {},
   "outputs": [
    {
     "data": {
      "text/html": [
       "<div>\n",
       "<style scoped>\n",
       "    .dataframe tbody tr th:only-of-type {\n",
       "        vertical-align: middle;\n",
       "    }\n",
       "\n",
       "    .dataframe tbody tr th {\n",
       "        vertical-align: top;\n",
       "    }\n",
       "\n",
       "    .dataframe thead th {\n",
       "        text-align: right;\n",
       "    }\n",
       "</style>\n",
       "<table border=\"1\" class=\"dataframe\">\n",
       "  <thead>\n",
       "    <tr style=\"text-align: right;\">\n",
       "      <th></th>\n",
       "      <th>AAPL</th>\n",
       "      <th>COST</th>\n",
       "      <th>FANG</th>\n",
       "      <th>GOOG</th>\n",
       "      <th>MSFT</th>\n",
       "      <th>ODFL</th>\n",
       "      <th>SYK</th>\n",
       "      <th>Optimized Value</th>\n",
       "    </tr>\n",
       "  </thead>\n",
       "  <tbody>\n",
       "    <tr>\n",
       "      <th>Max Sharpe</th>\n",
       "      <td>0.186386</td>\n",
       "      <td>0.332686</td>\n",
       "      <td>0.054525</td>\n",
       "      <td>0.024008</td>\n",
       "      <td>0.085794</td>\n",
       "      <td>0.303084</td>\n",
       "      <td>0.013518</td>\n",
       "      <td>0.070705</td>\n",
       "    </tr>\n",
       "    <tr>\n",
       "      <th>Max Omega</th>\n",
       "      <td>0.705404</td>\n",
       "      <td>0.011639</td>\n",
       "      <td>0.031356</td>\n",
       "      <td>0.014937</td>\n",
       "      <td>0.106060</td>\n",
       "      <td>0.042122</td>\n",
       "      <td>0.088482</td>\n",
       "      <td>1.141791</td>\n",
       "    </tr>\n",
       "    <tr>\n",
       "      <th>Min VaR (Empirical)</th>\n",
       "      <td>0.086821</td>\n",
       "      <td>0.025140</td>\n",
       "      <td>0.709952</td>\n",
       "      <td>0.026674</td>\n",
       "      <td>0.034988</td>\n",
       "      <td>0.066680</td>\n",
       "      <td>0.049745</td>\n",
       "      <td>-0.029587</td>\n",
       "    </tr>\n",
       "    <tr>\n",
       "      <th>Min VaR (Parametric)</th>\n",
       "      <td>0.010203</td>\n",
       "      <td>0.604674</td>\n",
       "      <td>0.021442</td>\n",
       "      <td>0.067597</td>\n",
       "      <td>0.063765</td>\n",
       "      <td>0.067045</td>\n",
       "      <td>0.165274</td>\n",
       "      <td>-0.022516</td>\n",
       "    </tr>\n",
       "  </tbody>\n",
       "</table>\n",
       "</div>"
      ],
      "text/plain": [
       "                          AAPL      COST      FANG      GOOG      MSFT  \\\n",
       "Max Sharpe            0.186386  0.332686  0.054525  0.024008  0.085794   \n",
       "Max Omega             0.705404  0.011639  0.031356  0.014937  0.106060   \n",
       "Min VaR (Empirical)   0.086821  0.025140  0.709952  0.026674  0.034988   \n",
       "Min VaR (Parametric)  0.010203  0.604674  0.021442  0.067597  0.063765   \n",
       "\n",
       "                          ODFL       SYK  Optimized Value  \n",
       "Max Sharpe            0.303084  0.013518         0.070705  \n",
       "Max Omega             0.042122  0.088482         1.141791  \n",
       "Min VaR (Empirical)   0.066680  0.049745        -0.029587  \n",
       "Min VaR (Parametric)  0.067045  0.165274        -0.022516  "
      ]
     },
     "execution_count": 4,
     "metadata": {},
     "output_type": "execute_result"
    }
   ],
   "source": [
    "Asset_allocator.run_MC_optimizations()"
   ]
  },
  {
   "cell_type": "code",
   "execution_count": 3,
   "id": "2ff13d4b",
   "metadata": {},
   "outputs": [
    {
     "data": {
      "text/html": [
       "<div>\n",
       "<style scoped>\n",
       "    .dataframe tbody tr th:only-of-type {\n",
       "        vertical-align: middle;\n",
       "    }\n",
       "\n",
       "    .dataframe tbody tr th {\n",
       "        vertical-align: top;\n",
       "    }\n",
       "\n",
       "    .dataframe thead th {\n",
       "        text-align: right;\n",
       "    }\n",
       "</style>\n",
       "<table border=\"1\" class=\"dataframe\">\n",
       "  <thead>\n",
       "    <tr style=\"text-align: right;\">\n",
       "      <th></th>\n",
       "      <th>AAPL</th>\n",
       "      <th>COST</th>\n",
       "      <th>FANG</th>\n",
       "      <th>GOOG</th>\n",
       "      <th>MSFT</th>\n",
       "      <th>ODFL</th>\n",
       "      <th>SYK</th>\n",
       "      <th>Optimized Value</th>\n",
       "    </tr>\n",
       "  </thead>\n",
       "  <tbody>\n",
       "    <tr>\n",
       "      <th>Max Sharpe</th>\n",
       "      <td>0.301609</td>\n",
       "      <td>0.344388</td>\n",
       "      <td>0.055136</td>\n",
       "      <td>0.010000</td>\n",
       "      <td>0.010000</td>\n",
       "      <td>0.268867</td>\n",
       "      <td>0.010000</td>\n",
       "      <td>0.071535</td>\n",
       "    </tr>\n",
       "    <tr>\n",
       "      <th>Max Omega</th>\n",
       "      <td>0.940000</td>\n",
       "      <td>0.010000</td>\n",
       "      <td>0.010000</td>\n",
       "      <td>0.010000</td>\n",
       "      <td>0.010000</td>\n",
       "      <td>0.010000</td>\n",
       "      <td>0.010000</td>\n",
       "      <td>1.153850</td>\n",
       "    </tr>\n",
       "    <tr>\n",
       "      <th>Min VaR (Empirical)</th>\n",
       "      <td>0.201757</td>\n",
       "      <td>0.010000</td>\n",
       "      <td>0.044387</td>\n",
       "      <td>0.131241</td>\n",
       "      <td>0.304939</td>\n",
       "      <td>0.297676</td>\n",
       "      <td>0.010000</td>\n",
       "      <td>-0.025697</td>\n",
       "    </tr>\n",
       "    <tr>\n",
       "      <th>Min VaR (Parametric)</th>\n",
       "      <td>0.010000</td>\n",
       "      <td>0.635983</td>\n",
       "      <td>0.051151</td>\n",
       "      <td>0.064577</td>\n",
       "      <td>0.010000</td>\n",
       "      <td>0.024267</td>\n",
       "      <td>0.204022</td>\n",
       "      <td>-0.022357</td>\n",
       "    </tr>\n",
       "  </tbody>\n",
       "</table>\n",
       "</div>"
      ],
      "text/plain": [
       "                          AAPL      COST      FANG      GOOG      MSFT  \\\n",
       "Max Sharpe            0.301609  0.344388  0.055136  0.010000  0.010000   \n",
       "Max Omega             0.940000  0.010000  0.010000  0.010000  0.010000   \n",
       "Min VaR (Empirical)   0.201757  0.010000  0.044387  0.131241  0.304939   \n",
       "Min VaR (Parametric)  0.010000  0.635983  0.051151  0.064577  0.010000   \n",
       "\n",
       "                          ODFL       SYK  Optimized Value  \n",
       "Max Sharpe            0.268867  0.010000         0.071535  \n",
       "Max Omega             0.010000  0.010000         1.153850  \n",
       "Min VaR (Empirical)   0.297676  0.010000        -0.025697  \n",
       "Min VaR (Parametric)  0.024267  0.204022        -0.022357  "
      ]
     },
     "execution_count": 3,
     "metadata": {},
     "output_type": "execute_result"
    }
   ],
   "source": [
    "Asset_allocator.run_SLSQP_optimizations()"
   ]
  },
  {
   "cell_type": "code",
   "execution_count": null,
   "id": "daace945",
   "metadata": {},
   "outputs": [],
   "source": []
  },
  {
   "cell_type": "markdown",
   "id": "13a64c55",
   "metadata": {},
   "source": [
    "-----"
   ]
  },
  {
   "cell_type": "markdown",
   "id": "aa259bd5",
   "metadata": {},
   "source": [
    "-------"
   ]
  },
  {
   "cell_type": "code",
   "execution_count": 3,
   "id": "345cb1be",
   "metadata": {},
   "outputs": [
    {
     "data": {
      "text/html": [
       "<div>\n",
       "<style scoped>\n",
       "    .dataframe tbody tr th:only-of-type {\n",
       "        vertical-align: middle;\n",
       "    }\n",
       "\n",
       "    .dataframe tbody tr th {\n",
       "        vertical-align: top;\n",
       "    }\n",
       "\n",
       "    .dataframe thead th {\n",
       "        text-align: right;\n",
       "    }\n",
       "</style>\n",
       "<table border=\"1\" class=\"dataframe\">\n",
       "  <thead>\n",
       "    <tr style=\"text-align: right;\">\n",
       "      <th></th>\n",
       "      <th>Max Sharpe Ratio Weights (%)</th>\n",
       "      <th>Max Omega Ratio Weights (%)</th>\n",
       "      <th>Min VaR empirical Weights (%)</th>\n",
       "      <th>Min VaR cov-var Weights (%)</th>\n",
       "    </tr>\n",
       "  </thead>\n",
       "  <tbody>\n",
       "    <tr>\n",
       "      <th>AAPL</th>\n",
       "      <td>30.160970</td>\n",
       "      <td>94.00000</td>\n",
       "      <td>28.155215</td>\n",
       "      <td>1.000000</td>\n",
       "    </tr>\n",
       "    <tr>\n",
       "      <th>COST</th>\n",
       "      <td>34.438792</td>\n",
       "      <td>1.00000</td>\n",
       "      <td>1.000000</td>\n",
       "      <td>63.598334</td>\n",
       "    </tr>\n",
       "    <tr>\n",
       "      <th>FANG</th>\n",
       "      <td>5.513552</td>\n",
       "      <td>1.00000</td>\n",
       "      <td>2.756791</td>\n",
       "      <td>5.115139</td>\n",
       "    </tr>\n",
       "    <tr>\n",
       "      <th>GOOG</th>\n",
       "      <td>1.000000</td>\n",
       "      <td>1.00000</td>\n",
       "      <td>12.773259</td>\n",
       "      <td>6.457652</td>\n",
       "    </tr>\n",
       "    <tr>\n",
       "      <th>MSFT</th>\n",
       "      <td>1.000000</td>\n",
       "      <td>1.00000</td>\n",
       "      <td>26.120907</td>\n",
       "      <td>1.000000</td>\n",
       "    </tr>\n",
       "    <tr>\n",
       "      <th>ODFL</th>\n",
       "      <td>26.886686</td>\n",
       "      <td>1.00000</td>\n",
       "      <td>28.193828</td>\n",
       "      <td>2.426661</td>\n",
       "    </tr>\n",
       "    <tr>\n",
       "      <th>SYK</th>\n",
       "      <td>1.000000</td>\n",
       "      <td>1.00000</td>\n",
       "      <td>1.000000</td>\n",
       "      <td>20.402214</td>\n",
       "    </tr>\n",
       "    <tr>\n",
       "      <th>Optimization Value</th>\n",
       "      <td>0.071535</td>\n",
       "      <td>1.15385</td>\n",
       "      <td>-7.611330</td>\n",
       "      <td>-11.465708</td>\n",
       "    </tr>\n",
       "  </tbody>\n",
       "</table>\n",
       "</div>"
      ],
      "text/plain": [
       "                    Max Sharpe Ratio Weights (%)  Max Omega Ratio Weights (%)  \\\n",
       "AAPL                                   30.160970                     94.00000   \n",
       "COST                                   34.438792                      1.00000   \n",
       "FANG                                    5.513552                      1.00000   \n",
       "GOOG                                    1.000000                      1.00000   \n",
       "MSFT                                    1.000000                      1.00000   \n",
       "ODFL                                   26.886686                      1.00000   \n",
       "SYK                                     1.000000                      1.00000   \n",
       "Optimization Value                      0.071535                      1.15385   \n",
       "\n",
       "                    Min VaR empirical Weights (%)  Min VaR cov-var Weights (%)  \n",
       "AAPL                                    28.155215                     1.000000  \n",
       "COST                                     1.000000                    63.598334  \n",
       "FANG                                     2.756791                     5.115139  \n",
       "GOOG                                    12.773259                     6.457652  \n",
       "MSFT                                    26.120907                     1.000000  \n",
       "ODFL                                    28.193828                     2.426661  \n",
       "SYK                                      1.000000                    20.402214  \n",
       "Optimization Value                      -7.611330                   -11.465708  "
      ]
     },
     "execution_count": 3,
     "metadata": {},
     "output_type": "execute_result"
    }
   ],
   "source": [
    "Asset_allocator = AssetAllocation(asset_prices = asset_prices,benchmark_prices = benchmark_prices, rf=rf)\n",
    "Asset_allocator.run_optimizations()"
   ]
  },
  {
   "cell_type": "markdown",
   "id": "1f1327ef",
   "metadata": {},
   "source": [
    "--------------"
   ]
  },
  {
   "cell_type": "markdown",
   "id": "e470d498",
   "metadata": {},
   "source": [
    "----------"
   ]
  },
  {
   "cell_type": "code",
   "execution_count": 4,
   "id": "36fecfee",
   "metadata": {},
   "outputs": [
    {
     "name": "stderr",
     "output_type": "stream",
     "text": [
      "C:\\Users\\lalos\\anaconda3\\lib\\site-packages\\scipy\\optimize\\optimize.py:282: RuntimeWarning: Values in x were outside bounds during a minimize step, clipping to bounds\n",
      "  warnings.warn(\"Values in x were outside bounds during a \"\n"
     ]
    },
    {
     "data": {
      "text/plain": [
       "(array([0.30161009, 0.34438724, 0.05513564, 0.01      , 0.01      ,\n",
       "        0.26886703, 0.01      ]),\n",
       " 0.07153521402991408)"
      ]
     },
     "execution_count": 4,
     "metadata": {},
     "output_type": "execute_result"
    }
   ],
   "source": [
    "optimized_weights, sharpe = Asset_allocator.optimize_max_sharpe()\n",
    "optimized_weights, sharpe "
   ]
  },
  {
   "cell_type": "code",
   "execution_count": 11,
   "id": "4b349283",
   "metadata": {},
   "outputs": [
    {
     "name": "stderr",
     "output_type": "stream",
     "text": [
      "C:\\Users\\lalos\\anaconda3\\lib\\site-packages\\scipy\\optimize\\optimize.py:282: RuntimeWarning: Values in x were outside bounds during a minimize step, clipping to bounds\n",
      "  warnings.warn(\"Values in x were outside bounds during a \"\n"
     ]
    },
    {
     "data": {
      "text/plain": [
       "(array([0.94, 0.01, 0.01, 0.01, 0.01, 0.01, 0.01]), 1.1538501949852684)"
      ]
     },
     "execution_count": 11,
     "metadata": {},
     "output_type": "execute_result"
    }
   ],
   "source": [
    "optimized_weights, omega = Asset_allocator.optimize_for_omega()\n",
    "optimized_weights, omega "
   ]
  },
  {
   "cell_type": "code",
   "execution_count": 5,
   "id": "915f8f08",
   "metadata": {},
   "outputs": [
    {
     "data": {
      "text/plain": [
       "(array([0.11521844, 0.10440944, 0.22059248, 0.1       , 0.22474835,\n",
       "        0.13503129, 0.1       ]),\n",
       " -0.02213345518807004)"
      ]
     },
     "execution_count": 5,
     "metadata": {},
     "output_type": "execute_result"
    }
   ],
   "source": [
    "optimized_weights, minvar = Asset_allocator.minimize_var()\n",
    "optimized_weights, minvar"
   ]
  },
  {
   "cell_type": "code",
   "execution_count": 5,
   "id": "c5adb6ef",
   "metadata": {},
   "outputs": [
    {
     "data": {
      "text/plain": [
       "(array([0.01      , 0.63598322, 0.05115135, 0.06457652, 0.01      ,\n",
       "        0.02426611, 0.2040228 ]),\n",
       " 0.022357496307870397)"
      ]
     },
     "execution_count": 5,
     "metadata": {},
     "output_type": "execute_result"
    }
   ],
   "source": [
    "optimized_weights, minvar = Asset_allocator.minimize_var()\n",
    "optimized_weights, minvar"
   ]
  },
  {
   "cell_type": "code",
   "execution_count": 4,
   "id": "a77eabb8",
   "metadata": {},
   "outputs": [
    {
     "name": "stderr",
     "output_type": "stream",
     "text": [
      "C:\\Users\\lalos\\anaconda3\\lib\\site-packages\\scipy\\optimize\\optimize.py:282: RuntimeWarning: Values in x were outside bounds during a minimize step, clipping to bounds\n",
      "  warnings.warn(\"Values in x were outside bounds during a \"\n"
     ]
    },
    {
     "data": {
      "text/plain": [
       "(array([0.01      , 0.63598308, 0.05115124, 0.06457685, 0.01      ,\n",
       "        0.02426663, 0.2040222 ]),\n",
       " 7.120703247877434)"
      ]
     },
     "execution_count": 4,
     "metadata": {},
     "output_type": "execute_result"
    }
   ],
   "source": [
    "optimized_weights, minvar = Asset_allocator.minimize_var()\n",
    "optimized_weights, minvar"
   ]
  },
  {
   "cell_type": "code",
   "execution_count": null,
   "id": "a77c02b9",
   "metadata": {},
   "outputs": [],
   "source": []
  },
  {
   "cell_type": "code",
   "execution_count": null,
   "id": "ab08c3a0",
   "metadata": {},
   "outputs": [],
   "source": []
  },
  {
   "cell_type": "code",
   "execution_count": 7,
   "id": "56dd0286",
   "metadata": {},
   "outputs": [
    {
     "data": {
      "text/plain": [
       "-6.830310625679822"
      ]
     },
     "execution_count": 7,
     "metadata": {},
     "output_type": "execute_result"
    }
   ],
   "source": [
    "asset_prices.iloc[-1].dot(optimized_weights) * -0.02213345518807004"
   ]
  },
  {
   "cell_type": "code",
   "execution_count": null,
   "id": "79093bea",
   "metadata": {},
   "outputs": [],
   "source": []
  },
  {
   "cell_type": "code",
   "execution_count": null,
   "id": "18521318",
   "metadata": {},
   "outputs": [],
   "source": []
  },
  {
   "cell_type": "code",
   "execution_count": null,
   "id": "a8bb03ed",
   "metadata": {},
   "outputs": [],
   "source": []
  },
  {
   "cell_type": "code",
   "execution_count": null,
   "id": "45429ae0",
   "metadata": {},
   "outputs": [],
   "source": []
  },
  {
   "cell_type": "code",
   "execution_count": null,
   "id": "bfa87e98",
   "metadata": {},
   "outputs": [],
   "source": []
  },
  {
   "cell_type": "code",
   "execution_count": null,
   "id": "842e660d",
   "metadata": {},
   "outputs": [],
   "source": []
  },
  {
   "cell_type": "code",
   "execution_count": null,
   "id": "251d6a06",
   "metadata": {},
   "outputs": [],
   "source": []
  },
  {
   "cell_type": "code",
   "execution_count": null,
   "id": "a0138a37",
   "metadata": {},
   "outputs": [],
   "source": []
  },
  {
   "cell_type": "code",
   "execution_count": 4,
   "id": "89ad4fbb",
   "metadata": {},
   "outputs": [],
   "source": [
    "asset_returns = asset_prices.pct_change().dropna()\n",
    "benchmark_returns = benchmark_prices.pct_change().dropna()\n",
    "asset_cov_matrix = asset_returns.cov()\n",
    "rf = .1165"
   ]
  },
  {
   "cell_type": "code",
   "execution_count": 5,
   "id": "9f442238",
   "metadata": {},
   "outputs": [
    {
     "ename": "NameError",
     "evalue": "name 'portfolio_rend' is not defined",
     "output_type": "error",
     "traceback": [
      "\u001b[1;31m---------------------------------------------------------------------------\u001b[0m",
      "\u001b[1;31mNameError\u001b[0m                                 Traceback (most recent call last)",
      "Input \u001b[1;32mIn [5]\u001b[0m, in \u001b[0;36m<cell line: 1>\u001b[1;34m()\u001b[0m\n\u001b[1;32m----> 1\u001b[0m \u001b[43mportfolio_rend\u001b[49m\n",
      "\u001b[1;31mNameError\u001b[0m: name 'portfolio_rend' is not defined"
     ]
    }
   ],
   "source": [
    "portfolio_rend"
   ]
  },
  {
   "cell_type": "code",
   "execution_count": 6,
   "id": "a4539e28",
   "metadata": {},
   "outputs": [],
   "source": [
    "asset_returns = asset_prices.pct_change().dropna()\n",
    "asset_cov_matrix = asset_returns.cov()\n",
    "rf = .1165\n",
    "\n",
    "average_asset_returns = asset_prices.pct_change().dropna().mean()\n",
    "start_weights = np.full(len(average_asset_returns), 1/len(average_asset_returns))\n",
    "portfolio_rend = np.dot(average_asset_returns, start_weights)\n",
    "\n",
    "variance = np.dot(np.dot(start_weights, asset_cov_matrix), start_weights)\n",
    "volatility = np.sqrt(variance)\n",
    "\n",
    "rf = rf/252\n",
    "\n",
    "Sharpe = (portfolio_rend - rf)/volatility"
   ]
  },
  {
   "cell_type": "code",
   "execution_count": 4,
   "id": "fbfd165d",
   "metadata": {},
   "outputs": [
    {
     "name": "stdout",
     "output_type": "stream",
     "text": [
      "Pesos optimizados: [3.13442417e-01 3.56327240e-01 5.77706230e-02 4.44793941e-17\n",
      " 0.00000000e+00 2.72459719e-01 3.52365706e-19]\n",
      "Ratio de Sharpe optimizado: 0.07192814647143334\n"
     ]
    }
   ],
   "source": [
    "import numpy as np\n",
    "import scipy.optimize as sco\n",
    "\n",
    "asset_returns = asset_prices.pct_change().dropna()\n",
    "asset_cov_matrix = asset_returns.cov()\n",
    "average_asset_returns = asset_returns.mean()\n",
    "start_weights = np.full(len(average_asset_returns), 1 / len(average_asset_returns))\n",
    "\n",
    "# Tasa libre de riesgo anual, ajustada a diario\n",
    "rf_daily = rf / 252\n",
    "\n",
    "# Función para calcular el negativo del ratio de Sharpe\n",
    "def neg_sharpe_ratio(weights, average_asset_returns, cov_matrix, rf_daily):\n",
    "    portfolio_return = np.dot(weights, average_asset_returns)\n",
    "    portfolio_volatility = np.sqrt(np.dot(weights.T, np.dot(cov_matrix, weights)))\n",
    "    sharpe_ratio = (portfolio_return - rf_daily) / portfolio_volatility\n",
    "    return -sharpe_ratio  # Negativo porque estamos minimizando\n",
    "\n",
    "# Restricciones y límites para los pesos\n",
    "constraints = ({'type': 'eq', 'fun': lambda x: np.sum(x) - 1})  # La suma de los pesos debe ser 1\n",
    "bounds = tuple((0, 1) for _ in range(len(start_weights)))  # Los pesos deben estar entre 0 y 1\n",
    "\n",
    "# Optimización\n",
    "opts = sco.minimize(neg_sharpe_ratio, start_weights, args=(average_asset_returns, asset_cov_matrix, rf_daily),\n",
    "                    method='SLSQP', bounds=bounds, constraints=constraints)\n",
    "\n",
    "# Resultados de la optimización\n",
    "optimized_weights = opts.x\n",
    "optimized_sharpe = -opts.fun  # Negativo porque minimizamos el negativo del ratio de Sharpe\n",
    "\n",
    "print(\"Pesos optimizados:\", optimized_weights)\n",
    "print(\"Ratio de Sharpe optimizado:\", optimized_sharpe)\n"
   ]
  },
  {
   "cell_type": "code",
   "execution_count": 44,
   "id": "2d02f02b",
   "metadata": {},
   "outputs": [
    {
     "data": {
      "text/plain": [
       "0.056991422047103946"
      ]
     },
     "execution_count": 44,
     "metadata": {},
     "output_type": "execute_result"
    }
   ],
   "source": [
    "Sharpe"
   ]
  },
  {
   "cell_type": "code",
   "execution_count": 19,
   "id": "51e31e99",
   "metadata": {},
   "outputs": [],
   "source": [
    "from scipy.optimize import minimize"
   ]
  },
  {
   "cell_type": "code",
   "execution_count": 48,
   "id": "3c05f289",
   "metadata": {},
   "outputs": [
    {
     "data": {
      "text/plain": [
       "0.0006458550742122128"
      ]
     },
     "execution_count": 48,
     "metadata": {},
     "output_type": "execute_result"
    }
   ],
   "source": [
    "np.dot( start_weights,np.dot(start_weights, asset_cov_matrix))"
   ]
  },
  {
   "cell_type": "code",
   "execution_count": 38,
   "id": "3aed4cd9",
   "metadata": {},
   "outputs": [
    {
     "data": {
      "text/plain": [
       "0.02541367887993025"
      ]
     },
     "execution_count": 38,
     "metadata": {},
     "output_type": "execute_result"
    }
   ],
   "source": [
    "volatility"
   ]
  },
  {
   "cell_type": "code",
   "execution_count": 37,
   "id": "d8517d3c",
   "metadata": {},
   "outputs": [
    {
     "data": {
      "text/html": [
       "<div>\n",
       "<style scoped>\n",
       "    .dataframe tbody tr th:only-of-type {\n",
       "        vertical-align: middle;\n",
       "    }\n",
       "\n",
       "    .dataframe tbody tr th {\n",
       "        vertical-align: top;\n",
       "    }\n",
       "\n",
       "    .dataframe thead th {\n",
       "        text-align: right;\n",
       "    }\n",
       "</style>\n",
       "<table border=\"1\" class=\"dataframe\">\n",
       "  <thead>\n",
       "    <tr style=\"text-align: right;\">\n",
       "      <th></th>\n",
       "      <th>AAPL</th>\n",
       "      <th>GOOG</th>\n",
       "      <th>MSFT</th>\n",
       "    </tr>\n",
       "  </thead>\n",
       "  <tbody>\n",
       "    <tr>\n",
       "      <th>AAPL</th>\n",
       "      <td>0.000868</td>\n",
       "      <td>0.000537</td>\n",
       "      <td>0.000686</td>\n",
       "    </tr>\n",
       "    <tr>\n",
       "      <th>GOOG</th>\n",
       "      <td>0.000537</td>\n",
       "      <td>0.000585</td>\n",
       "      <td>0.000572</td>\n",
       "    </tr>\n",
       "    <tr>\n",
       "      <th>MSFT</th>\n",
       "      <td>0.000686</td>\n",
       "      <td>0.000572</td>\n",
       "      <td>0.000769</td>\n",
       "    </tr>\n",
       "  </tbody>\n",
       "</table>\n",
       "</div>"
      ],
      "text/plain": [
       "          AAPL      GOOG      MSFT\n",
       "AAPL  0.000868  0.000537  0.000686\n",
       "GOOG  0.000537  0.000585  0.000572\n",
       "MSFT  0.000686  0.000572  0.000769"
      ]
     },
     "execution_count": 37,
     "metadata": {},
     "output_type": "execute_result"
    }
   ],
   "source": [
    "asset_cov_matrix"
   ]
  },
  {
   "cell_type": "code",
   "execution_count": 5,
   "id": "ea93cd73",
   "metadata": {},
   "outputs": [
    {
     "data": {
      "text/plain": [
       "AAPL    0.002769\n",
       "GOOG    0.001252\n",
       "MSFT    0.001711\n",
       "dtype: float64"
      ]
     },
     "execution_count": 5,
     "metadata": {},
     "output_type": "execute_result"
    }
   ],
   "source": [
    "average_asset_returns"
   ]
  },
  {
   "cell_type": "code",
   "execution_count": 14,
   "id": "f050a059",
   "metadata": {},
   "outputs": [
    {
     "data": {
      "text/plain": [
       "AAPL    1.365584\n",
       "GOOG    1.158482\n",
       "MSFT    1.201645\n",
       "dtype: float64"
      ]
     },
     "execution_count": 14,
     "metadata": {},
     "output_type": "execute_result"
    }
   ],
   "source": [
    "portfolio_market_gap = asset_returns - benchmark_returns.values\n",
    "downside = portfolio_market_gap[portfolio_market_gap < 0].fillna(0).std()\n",
    "upside = portfolio_market_gap[portfolio_market_gap > 0].fillna(0).std()\n",
    "omega = upside/downside\n",
    "omega"
   ]
  },
  {
   "cell_type": "code",
   "execution_count": 13,
   "id": "b9afccac",
   "metadata": {},
   "outputs": [
    {
     "data": {
      "text/html": [
       "<div>\n",
       "<style scoped>\n",
       "    .dataframe tbody tr th:only-of-type {\n",
       "        vertical-align: middle;\n",
       "    }\n",
       "\n",
       "    .dataframe tbody tr th {\n",
       "        vertical-align: top;\n",
       "    }\n",
       "\n",
       "    .dataframe thead th {\n",
       "        text-align: right;\n",
       "    }\n",
       "</style>\n",
       "<table border=\"1\" class=\"dataframe\">\n",
       "  <thead>\n",
       "    <tr style=\"text-align: right;\">\n",
       "      <th></th>\n",
       "      <th>AAPL</th>\n",
       "      <th>GOOG</th>\n",
       "      <th>MSFT</th>\n",
       "    </tr>\n",
       "    <tr>\n",
       "      <th>Date</th>\n",
       "      <th></th>\n",
       "      <th></th>\n",
       "      <th></th>\n",
       "    </tr>\n",
       "  </thead>\n",
       "  <tbody>\n",
       "    <tr>\n",
       "      <th>2020-01-03</th>\n",
       "      <td>-0.002662</td>\n",
       "      <td>0.002153</td>\n",
       "      <td>-0.005392</td>\n",
       "    </tr>\n",
       "    <tr>\n",
       "      <th>2020-01-06</th>\n",
       "      <td>0.004435</td>\n",
       "      <td>0.021124</td>\n",
       "      <td>-0.000949</td>\n",
       "    </tr>\n",
       "    <tr>\n",
       "      <th>2020-01-07</th>\n",
       "      <td>-0.001900</td>\n",
       "      <td>0.002179</td>\n",
       "      <td>-0.006314</td>\n",
       "    </tr>\n",
       "    <tr>\n",
       "      <th>2020-01-08</th>\n",
       "      <td>0.011184</td>\n",
       "      <td>0.002978</td>\n",
       "      <td>0.011026</td>\n",
       "    </tr>\n",
       "    <tr>\n",
       "      <th>2020-01-09</th>\n",
       "      <td>0.014586</td>\n",
       "      <td>0.004389</td>\n",
       "      <td>0.005838</td>\n",
       "    </tr>\n",
       "    <tr>\n",
       "      <th>...</th>\n",
       "      <td>...</td>\n",
       "      <td>...</td>\n",
       "      <td>...</td>\n",
       "    </tr>\n",
       "    <tr>\n",
       "      <th>2020-12-23</th>\n",
       "      <td>-0.007722</td>\n",
       "      <td>0.004406</td>\n",
       "      <td>-0.013785</td>\n",
       "    </tr>\n",
       "    <tr>\n",
       "      <th>2020-12-24</th>\n",
       "      <td>0.004175</td>\n",
       "      <td>0.000198</td>\n",
       "      <td>0.004291</td>\n",
       "    </tr>\n",
       "    <tr>\n",
       "      <th>2020-12-28</th>\n",
       "      <td>0.027043</td>\n",
       "      <td>0.012694</td>\n",
       "      <td>0.001199</td>\n",
       "    </tr>\n",
       "    <tr>\n",
       "      <th>2020-12-29</th>\n",
       "      <td>-0.011087</td>\n",
       "      <td>-0.007553</td>\n",
       "      <td>-0.001373</td>\n",
       "    </tr>\n",
       "    <tr>\n",
       "      <th>2020-12-30</th>\n",
       "      <td>-0.009868</td>\n",
       "      <td>-0.012259</td>\n",
       "      <td>-0.012361</td>\n",
       "    </tr>\n",
       "  </tbody>\n",
       "</table>\n",
       "<p>251 rows × 3 columns</p>\n",
       "</div>"
      ],
      "text/plain": [
       "                AAPL      GOOG      MSFT\n",
       "Date                                    \n",
       "2020-01-03 -0.002662  0.002153 -0.005392\n",
       "2020-01-06  0.004435  0.021124 -0.000949\n",
       "2020-01-07 -0.001900  0.002179 -0.006314\n",
       "2020-01-08  0.011184  0.002978  0.011026\n",
       "2020-01-09  0.014586  0.004389  0.005838\n",
       "...              ...       ...       ...\n",
       "2020-12-23 -0.007722  0.004406 -0.013785\n",
       "2020-12-24  0.004175  0.000198  0.004291\n",
       "2020-12-28  0.027043  0.012694  0.001199\n",
       "2020-12-29 -0.011087 -0.007553 -0.001373\n",
       "2020-12-30 -0.009868 -0.012259 -0.012361\n",
       "\n",
       "[251 rows x 3 columns]"
      ]
     },
     "execution_count": 13,
     "metadata": {},
     "output_type": "execute_result"
    }
   ],
   "source": [
    "portfolio_market_gap"
   ]
  },
  {
   "cell_type": "code",
   "execution_count": null,
   "id": "f1be2942",
   "metadata": {},
   "outputs": [],
   "source": []
  },
  {
   "cell_type": "code",
   "execution_count": 7,
   "id": "09412e00",
   "metadata": {},
   "outputs": [
    {
     "data": {
      "text/html": [
       "<div>\n",
       "<style scoped>\n",
       "    .dataframe tbody tr th:only-of-type {\n",
       "        vertical-align: middle;\n",
       "    }\n",
       "\n",
       "    .dataframe tbody tr th {\n",
       "        vertical-align: top;\n",
       "    }\n",
       "\n",
       "    .dataframe thead th {\n",
       "        text-align: right;\n",
       "    }\n",
       "</style>\n",
       "<table border=\"1\" class=\"dataframe\">\n",
       "  <thead>\n",
       "    <tr style=\"text-align: right;\">\n",
       "      <th></th>\n",
       "      <th>Valores</th>\n",
       "    </tr>\n",
       "  </thead>\n",
       "  <tbody>\n",
       "    <tr>\n",
       "      <th>0</th>\n",
       "      <td>1</td>\n",
       "    </tr>\n",
       "    <tr>\n",
       "      <th>1</th>\n",
       "      <td>2</td>\n",
       "    </tr>\n",
       "    <tr>\n",
       "      <th>2</th>\n",
       "      <td>3</td>\n",
       "    </tr>\n",
       "    <tr>\n",
       "      <th>3</th>\n",
       "      <td>4</td>\n",
       "    </tr>\n",
       "    <tr>\n",
       "      <th>4</th>\n",
       "      <td>5</td>\n",
       "    </tr>\n",
       "  </tbody>\n",
       "</table>\n",
       "</div>"
      ],
      "text/plain": [
       "   Valores\n",
       "0        1\n",
       "1        2\n",
       "2        3\n",
       "3        4\n",
       "4        5"
      ]
     },
     "execution_count": 7,
     "metadata": {},
     "output_type": "execute_result"
    }
   ],
   "source": [
    "df = pd.DataFrame({\n",
    "    'Valores': range(1, 16)  # Los valores van del 1 al 15\n",
    "})\n",
    "df.head(5)"
   ]
  },
  {
   "cell_type": "code",
   "execution_count": 7,
   "id": "c3161948",
   "metadata": {},
   "outputs": [
    {
     "data": {
      "text/plain": [
       "Valores    1.7\n",
       "Name: 0.05, dtype: float64"
      ]
     },
     "execution_count": 7,
     "metadata": {},
     "output_type": "execute_result"
    }
   ],
   "source": [
    "df.quantile(.05)"
   ]
  },
  {
   "cell_type": "code",
   "execution_count": 8,
   "id": "626ebb88",
   "metadata": {},
   "outputs": [
    {
     "ename": "NameError",
     "evalue": "name 'optimized_weights' is not defined",
     "output_type": "error",
     "traceback": [
      "\u001b[1;31m---------------------------------------------------------------------------\u001b[0m",
      "\u001b[1;31mNameError\u001b[0m                                 Traceback (most recent call last)",
      "Input \u001b[1;32mIn [8]\u001b[0m, in \u001b[0;36m<cell line: 1>\u001b[1;34m()\u001b[0m\n\u001b[1;32m----> 1\u001b[0m pv \u001b[38;5;241m=\u001b[39m asset_prices\u001b[38;5;241m.\u001b[39mdot(\u001b[43moptimized_weights\u001b[49m)\n",
      "\u001b[1;31mNameError\u001b[0m: name 'optimized_weights' is not defined"
     ]
    }
   ],
   "source": [
    "pv = asset_prices.dot(optimized_weights)"
   ]
  },
  {
   "cell_type": "code",
   "execution_count": 15,
   "id": "559c8c2d",
   "metadata": {},
   "outputs": [
    {
     "data": {
      "text/plain": [
       "Date\n",
       "2019-01-03   -0.031709\n",
       "2019-01-04    0.032281\n",
       "2019-01-07    0.005611\n",
       "2019-01-08    0.013995\n",
       "2019-01-09    0.006799\n",
       "                ...   \n",
       "2023-12-22    0.007071\n",
       "2023-12-26    0.004431\n",
       "2023-12-27    0.004315\n",
       "2023-12-28   -0.004712\n",
       "2023-12-29   -0.007014\n",
       "Length: 1257, dtype: float64"
      ]
     },
     "execution_count": 15,
     "metadata": {},
     "output_type": "execute_result"
    }
   ],
   "source": [
    "pr = pv.pct_change().dropna()\n",
    "pr"
   ]
  },
  {
   "cell_type": "code",
   "execution_count": 28,
   "id": "6d9b9ed7",
   "metadata": {},
   "outputs": [
    {
     "data": {
      "text/plain": [
       "-8.322153867811833"
      ]
     },
     "execution_count": 28,
     "metadata": {},
     "output_type": "execute_result"
    }
   ],
   "source": [
    "pr.quantile(.05) *last_portfolio_value"
   ]
  },
  {
   "cell_type": "code",
   "execution_count": null,
   "id": "c09c835c",
   "metadata": {},
   "outputs": [],
   "source": []
  },
  {
   "cell_type": "code",
   "execution_count": 23,
   "id": "e230ae0f",
   "metadata": {},
   "outputs": [],
   "source": [
    "\n",
    "from scipy.stats import norm\n",
    "confidence_level= .05\n",
    "n = norm.ppf(1 - confidence_level) * volatility"
   ]
  },
  {
   "cell_type": "code",
   "execution_count": 4,
   "id": "caa6d95a",
   "metadata": {},
   "outputs": [
    {
     "ename": "NameError",
     "evalue": "name 'n' is not defined",
     "output_type": "error",
     "traceback": [
      "\u001b[1;31m---------------------------------------------------------------------------\u001b[0m",
      "\u001b[1;31mNameError\u001b[0m                                 Traceback (most recent call last)",
      "Input \u001b[1;32mIn [4]\u001b[0m, in \u001b[0;36m<cell line: 1>\u001b[1;34m()\u001b[0m\n\u001b[1;32m----> 1\u001b[0m \u001b[43mn\u001b[49m\n",
      "\u001b[1;31mNameError\u001b[0m: name 'n' is not defined"
     ]
    }
   ],
   "source": [
    "n"
   ]
  },
  {
   "cell_type": "code",
   "execution_count": 26,
   "id": "34ea6261",
   "metadata": {},
   "outputs": [
    {
     "data": {
      "text/plain": [
       "10.267170191234507"
      ]
     },
     "execution_count": 26,
     "metadata": {},
     "output_type": "execute_result"
    }
   ],
   "source": [
    "n * last_portfolio_value"
   ]
  },
  {
   "cell_type": "code",
   "execution_count": 25,
   "id": "b402f940",
   "metadata": {},
   "outputs": [
    {
     "data": {
      "text/plain": [
       "0.015184132175142655"
      ]
     },
     "execution_count": 25,
     "metadata": {},
     "output_type": "execute_result"
    }
   ],
   "source": [
    "asset_returns = asset_prices.pct_change().dropna()\n",
    "asset_cov_matrix = asset_returns.cov()\n",
    "\n",
    "portfolio_rend = np.dot(asset_prices, optimized_weights)\n",
    "last_portfolio_value = asset_prices.dot( optimized_weights).iloc[-1]\n",
    "\n",
    "variance = np.dot(np.dot(optimized_weights, asset_cov_matrix), optimized_weights)\n",
    "volatility = np.sqrt(variance)\n",
    "volatility"
   ]
  },
  {
   "cell_type": "code",
   "execution_count": null,
   "id": "e199ff1a",
   "metadata": {},
   "outputs": [],
   "source": []
  },
  {
   "cell_type": "code",
   "execution_count": 24,
   "id": "92883058",
   "metadata": {},
   "outputs": [
    {
     "data": {
      "text/plain": [
       "1.0"
      ]
     },
     "execution_count": 24,
     "metadata": {},
     "output_type": "execute_result"
    }
   ],
   "source": [
    "sum(np.random.dirichlet(alpha=np.ones(4)))"
   ]
  },
  {
   "cell_type": "code",
   "execution_count": null,
   "id": "c6efe199",
   "metadata": {},
   "outputs": [],
   "source": []
  },
  {
   "cell_type": "code",
   "execution_count": null,
   "id": "de4fbb40",
   "metadata": {},
   "outputs": [],
   "source": []
  },
  {
   "cell_type": "code",
   "execution_count": 5,
   "id": "6669a42e",
   "metadata": {},
   "outputs": [],
   "source": [
    "a, t = Asset_allocator.portfolio_autocorr_penalty(optimized_weights)"
   ]
  },
  {
   "cell_type": "code",
   "execution_count": 6,
   "id": "4ee1302d",
   "metadata": {},
   "outputs": [
    {
     "data": {
      "text/plain": [
       "1.126507659215745"
      ]
     },
     "execution_count": 6,
     "metadata": {},
     "output_type": "execute_result"
    }
   ],
   "source": [
    "a"
   ]
  },
  {
   "cell_type": "code",
   "execution_count": 7,
   "id": "a55234cd",
   "metadata": {},
   "outputs": [
    {
     "data": {
      "text/plain": [
       "0.11865641348339123"
      ]
     },
     "execution_count": 7,
     "metadata": {},
     "output_type": "execute_result"
    }
   ],
   "source": [
    "t"
   ]
  }
 ],
 "metadata": {
  "kernelspec": {
   "display_name": "Python 3 (ipykernel)",
   "language": "python",
   "name": "python3"
  },
  "language_info": {
   "codemirror_mode": {
    "name": "ipython",
    "version": 3
   },
   "file_extension": ".py",
   "mimetype": "text/x-python",
   "name": "python",
   "nbconvert_exporter": "python",
   "pygments_lexer": "ipython3",
   "version": "3.9.12"
  }
 },
 "nbformat": 4,
 "nbformat_minor": 5
}
