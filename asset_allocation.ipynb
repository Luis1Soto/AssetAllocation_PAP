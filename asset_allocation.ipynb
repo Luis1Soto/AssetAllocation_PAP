{
 "cells": [
  {
   "cell_type": "code",
   "execution_count": 1,
   "id": "f5ac6342",
   "metadata": {},
   "outputs": [],
   "source": [
    "import yfinance as yf\n",
    "import pandas as pd\n",
    "import numpy as np \n",
    "\n",
    "from AA import AssetDataDownloader, AssetAllocation"
   ]
  },
  {
   "cell_type": "code",
   "execution_count": 2,
   "id": "09a664d0",
   "metadata": {},
   "outputs": [
    {
     "name": "stdout",
     "output_type": "stream",
     "text": [
      "[*********************100%%**********************]  7 of 7 completed\n",
      "[*********************100%%**********************]  1 of 1 completed\n"
     ]
    }
   ],
   "source": [
    "downloader = AssetDataDownloader()\n",
    "\n",
    "assets = [\"MSFT\", \"COST\", \"GOOG\", \"SYK\", \"FANG\", \"ODFL\", \"AAPL\"] \n",
    "benchmark = '^GSPC'  \n",
    "start_date = '2019-01-01'\n",
    "end_date = '2023-12-31'\n",
    "rf = .065\n",
    "\n",
    "asset_prices, benchmark_prices = downloader.download_data(start_date= start_date, end_date= end_date,\n",
    "                                                          assets= assets, benchmark=benchmark)"
   ]
  },
  {
   "cell_type": "code",
   "execution_count": 3,
   "id": "345cb1be",
   "metadata": {},
   "outputs": [],
   "source": [
    "Asset_allocator = AssetAllocation(asset_prices = asset_prices,benchmark_prices = benchmark_prices, rf=rf)\n"
   ]
  },
  {
   "cell_type": "code",
   "execution_count": 4,
   "id": "013443ea",
   "metadata": {},
   "outputs": [
    {
     "name": "stderr",
     "output_type": "stream",
     "text": [
      "C:\\Users\\lalos\\anaconda3\\lib\\site-packages\\scipy\\optimize\\optimize.py:282: RuntimeWarning: Values in x were outside bounds during a minimize step, clipping to bounds\n",
      "  warnings.warn(\"Values in x were outside bounds during a \"\n"
     ]
    },
    {
     "data": {
      "text/html": [
       "<div>\n",
       "<style scoped>\n",
       "    .dataframe tbody tr th:only-of-type {\n",
       "        vertical-align: middle;\n",
       "    }\n",
       "\n",
       "    .dataframe tbody tr th {\n",
       "        vertical-align: top;\n",
       "    }\n",
       "\n",
       "    .dataframe thead th {\n",
       "        text-align: right;\n",
       "    }\n",
       "</style>\n",
       "<table border=\"1\" class=\"dataframe\">\n",
       "  <thead>\n",
       "    <tr style=\"text-align: right;\">\n",
       "      <th></th>\n",
       "      <th>Max Sharpe Ratio Weights (%)</th>\n",
       "      <th>Max Omega Ratio Weights (%)</th>\n",
       "    </tr>\n",
       "  </thead>\n",
       "  <tbody>\n",
       "    <tr>\n",
       "      <th>AAPL</th>\n",
       "      <td>30.160994</td>\n",
       "      <td>94.00000</td>\n",
       "    </tr>\n",
       "    <tr>\n",
       "      <th>COST</th>\n",
       "      <td>34.438765</td>\n",
       "      <td>1.00000</td>\n",
       "    </tr>\n",
       "    <tr>\n",
       "      <th>FANG</th>\n",
       "      <td>5.513560</td>\n",
       "      <td>1.00000</td>\n",
       "    </tr>\n",
       "    <tr>\n",
       "      <th>GOOG</th>\n",
       "      <td>1.000000</td>\n",
       "      <td>1.00000</td>\n",
       "    </tr>\n",
       "    <tr>\n",
       "      <th>MSFT</th>\n",
       "      <td>1.000000</td>\n",
       "      <td>1.00000</td>\n",
       "    </tr>\n",
       "    <tr>\n",
       "      <th>ODFL</th>\n",
       "      <td>26.886681</td>\n",
       "      <td>1.00000</td>\n",
       "    </tr>\n",
       "    <tr>\n",
       "      <th>SYK</th>\n",
       "      <td>1.000000</td>\n",
       "      <td>1.00000</td>\n",
       "    </tr>\n",
       "    <tr>\n",
       "      <th>Optimization Value</th>\n",
       "      <td>0.071535</td>\n",
       "      <td>1.15385</td>\n",
       "    </tr>\n",
       "  </tbody>\n",
       "</table>\n",
       "</div>"
      ],
      "text/plain": [
       "                    Max Sharpe Ratio Weights (%)  Max Omega Ratio Weights (%)\n",
       "AAPL                                   30.160994                     94.00000\n",
       "COST                                   34.438765                      1.00000\n",
       "FANG                                    5.513560                      1.00000\n",
       "GOOG                                    1.000000                      1.00000\n",
       "MSFT                                    1.000000                      1.00000\n",
       "ODFL                                   26.886681                      1.00000\n",
       "SYK                                     1.000000                      1.00000\n",
       "Optimization Value                      0.071535                      1.15385"
      ]
     },
     "execution_count": 4,
     "metadata": {},
     "output_type": "execute_result"
    }
   ],
   "source": [
    "Asset_allocator.run_optimizations()"
   ]
  },
  {
   "cell_type": "code",
   "execution_count": 4,
   "id": "36fecfee",
   "metadata": {},
   "outputs": [
    {
     "data": {
      "text/plain": [
       "(array([0.30160984, 0.3443876 , 0.05513553, 0.01      , 0.01      ,\n",
       "        0.26886704, 0.01      ]),\n",
       " 0.07153519541927252)"
      ]
     },
     "execution_count": 4,
     "metadata": {},
     "output_type": "execute_result"
    }
   ],
   "source": [
    "optimized_weights, sharpe = Asset_allocator.optimize_max_sharpe()\n",
    "optimized_weights, sharpe "
   ]
  },
  {
   "cell_type": "code",
   "execution_count": 5,
   "id": "4b349283",
   "metadata": {},
   "outputs": [
    {
     "data": {
      "text/plain": [
       "(array([0.94, 0.01, 0.01, 0.01, 0.01, 0.01, 0.01]), 1.153849369107957)"
      ]
     },
     "execution_count": 5,
     "metadata": {},
     "output_type": "execute_result"
    }
   ],
   "source": [
    "optimized_weights, omega = Asset_allocator.optimize_for_omega()\n",
    "optimized_weights, omega "
   ]
  },
  {
   "cell_type": "code",
   "execution_count": 4,
   "id": "915f8f08",
   "metadata": {},
   "outputs": [
    {
     "name": "stderr",
     "output_type": "stream",
     "text": [
      "C:\\Users\\lalos\\anaconda3\\lib\\site-packages\\scipy\\optimize\\optimize.py:282: RuntimeWarning: Values in x were outside bounds during a minimize step, clipping to bounds\n",
      "  warnings.warn(\"Values in x were outside bounds during a \"\n"
     ]
    },
    {
     "data": {
      "text/plain": [
       "(array([0.01      , 0.63598266, 0.05115126, 0.06457697, 0.01      ,\n",
       "        0.02426662, 0.20402248]),\n",
       " 0.022357498139065436)"
      ]
     },
     "execution_count": 4,
     "metadata": {},
     "output_type": "execute_result"
    }
   ],
   "source": [
    "optimized_weights, minvar = Asset_allocator.minimize_var()\n",
    "optimized_weights, minvar"
   ]
  },
  {
   "cell_type": "code",
   "execution_count": 5,
   "id": "c5adb6ef",
   "metadata": {},
   "outputs": [
    {
     "data": {
      "text/plain": [
       "(array([0.01      , 0.63598322, 0.05115135, 0.06457652, 0.01      ,\n",
       "        0.02426611, 0.2040228 ]),\n",
       " 0.022357496307870397)"
      ]
     },
     "execution_count": 5,
     "metadata": {},
     "output_type": "execute_result"
    }
   ],
   "source": [
    "optimized_weights, minvar = Asset_allocator.minimize_var()\n",
    "optimized_weights, minvar"
   ]
  },
  {
   "cell_type": "code",
   "execution_count": 4,
   "id": "a77eabb8",
   "metadata": {},
   "outputs": [
    {
     "name": "stderr",
     "output_type": "stream",
     "text": [
      "C:\\Users\\lalos\\anaconda3\\lib\\site-packages\\scipy\\optimize\\optimize.py:282: RuntimeWarning: Values in x were outside bounds during a minimize step, clipping to bounds\n",
      "  warnings.warn(\"Values in x were outside bounds during a \"\n"
     ]
    },
    {
     "data": {
      "text/plain": [
       "(array([0.01      , 0.63598308, 0.05115124, 0.06457685, 0.01      ,\n",
       "        0.02426663, 0.2040222 ]),\n",
       " 7.120703247877434)"
      ]
     },
     "execution_count": 4,
     "metadata": {},
     "output_type": "execute_result"
    }
   ],
   "source": [
    "optimized_weights, minvar = Asset_allocator.minimize_var()\n",
    "optimized_weights, minvar"
   ]
  },
  {
   "cell_type": "code",
   "execution_count": null,
   "id": "a77c02b9",
   "metadata": {},
   "outputs": [],
   "source": []
  },
  {
   "cell_type": "code",
   "execution_count": null,
   "id": "ab08c3a0",
   "metadata": {},
   "outputs": [],
   "source": []
  },
  {
   "cell_type": "code",
   "execution_count": 8,
   "id": "56dd0286",
   "metadata": {},
   "outputs": [
    {
     "data": {
      "text/plain": [
       "11.479485097951109"
      ]
     },
     "execution_count": 8,
     "metadata": {},
     "output_type": "execute_result"
    }
   ],
   "source": [
    "asset_prices.iloc[-1].dot(optimized_weights) * 0.022357496307870397"
   ]
  },
  {
   "cell_type": "code",
   "execution_count": null,
   "id": "79093bea",
   "metadata": {},
   "outputs": [],
   "source": []
  },
  {
   "cell_type": "code",
   "execution_count": null,
   "id": "18521318",
   "metadata": {},
   "outputs": [],
   "source": []
  },
  {
   "cell_type": "code",
   "execution_count": null,
   "id": "a8bb03ed",
   "metadata": {},
   "outputs": [],
   "source": []
  },
  {
   "cell_type": "code",
   "execution_count": null,
   "id": "45429ae0",
   "metadata": {},
   "outputs": [],
   "source": []
  },
  {
   "cell_type": "code",
   "execution_count": null,
   "id": "bfa87e98",
   "metadata": {},
   "outputs": [],
   "source": []
  },
  {
   "cell_type": "code",
   "execution_count": null,
   "id": "842e660d",
   "metadata": {},
   "outputs": [],
   "source": []
  },
  {
   "cell_type": "code",
   "execution_count": null,
   "id": "251d6a06",
   "metadata": {},
   "outputs": [],
   "source": []
  },
  {
   "cell_type": "code",
   "execution_count": null,
   "id": "a0138a37",
   "metadata": {},
   "outputs": [],
   "source": []
  },
  {
   "cell_type": "code",
   "execution_count": 9,
   "id": "89ad4fbb",
   "metadata": {},
   "outputs": [],
   "source": [
    "asset_returns = asset_prices.pct_change().dropna()\n",
    "benchmark_returns = benchmark_prices.pct_change().dropna()\n",
    "asset_cov_matrix = asset_returns.cov()\n",
    "rf = .1165"
   ]
  },
  {
   "cell_type": "code",
   "execution_count": 7,
   "id": "9f442238",
   "metadata": {},
   "outputs": [
    {
     "data": {
      "text/plain": [
       "0.001204447545667817"
      ]
     },
     "execution_count": 7,
     "metadata": {},
     "output_type": "execute_result"
    }
   ],
   "source": [
    "portfolio_rend"
   ]
  },
  {
   "cell_type": "code",
   "execution_count": 6,
   "id": "a4539e28",
   "metadata": {},
   "outputs": [],
   "source": [
    "asset_returns = asset_prices.pct_change().dropna()\n",
    "asset_cov_matrix = asset_returns.cov()\n",
    "rf = .1165\n",
    "\n",
    "average_asset_returns = asset_prices.pct_change().dropna().mean()\n",
    "start_weights = np.full(len(average_asset_returns), 1/len(average_asset_returns))\n",
    "portfolio_rend = np.dot(average_asset_returns, start_weights)\n",
    "\n",
    "variance = np.dot(np.dot(start_weights, asset_cov_matrix), start_weights)\n",
    "volatility = np.sqrt(variance)\n",
    "\n",
    "rf = rf/252\n",
    "\n",
    "Sharpe = (portfolio_rend - rf)/volatility"
   ]
  },
  {
   "cell_type": "code",
   "execution_count": 4,
   "id": "fbfd165d",
   "metadata": {},
   "outputs": [
    {
     "name": "stdout",
     "output_type": "stream",
     "text": [
      "Pesos optimizados: [3.13442417e-01 3.56327240e-01 5.77706230e-02 4.44793941e-17\n",
      " 0.00000000e+00 2.72459719e-01 3.52365706e-19]\n",
      "Ratio de Sharpe optimizado: 0.07192814647143334\n"
     ]
    }
   ],
   "source": [
    "import numpy as np\n",
    "import scipy.optimize as sco\n",
    "\n",
    "asset_returns = asset_prices.pct_change().dropna()\n",
    "asset_cov_matrix = asset_returns.cov()\n",
    "average_asset_returns = asset_returns.mean()\n",
    "start_weights = np.full(len(average_asset_returns), 1 / len(average_asset_returns))\n",
    "\n",
    "# Tasa libre de riesgo anual, ajustada a diario\n",
    "rf_daily = rf / 252\n",
    "\n",
    "# Función para calcular el negativo del ratio de Sharpe\n",
    "def neg_sharpe_ratio(weights, average_asset_returns, cov_matrix, rf_daily):\n",
    "    portfolio_return = np.dot(weights, average_asset_returns)\n",
    "    portfolio_volatility = np.sqrt(np.dot(weights.T, np.dot(cov_matrix, weights)))\n",
    "    sharpe_ratio = (portfolio_return - rf_daily) / portfolio_volatility\n",
    "    return -sharpe_ratio  # Negativo porque estamos minimizando\n",
    "\n",
    "# Restricciones y límites para los pesos\n",
    "constraints = ({'type': 'eq', 'fun': lambda x: np.sum(x) - 1})  # La suma de los pesos debe ser 1\n",
    "bounds = tuple((0, 1) for _ in range(len(start_weights)))  # Los pesos deben estar entre 0 y 1\n",
    "\n",
    "# Optimización\n",
    "opts = sco.minimize(neg_sharpe_ratio, start_weights, args=(average_asset_returns, asset_cov_matrix, rf_daily),\n",
    "                    method='SLSQP', bounds=bounds, constraints=constraints)\n",
    "\n",
    "# Resultados de la optimización\n",
    "optimized_weights = opts.x\n",
    "optimized_sharpe = -opts.fun  # Negativo porque minimizamos el negativo del ratio de Sharpe\n",
    "\n",
    "print(\"Pesos optimizados:\", optimized_weights)\n",
    "print(\"Ratio de Sharpe optimizado:\", optimized_sharpe)\n"
   ]
  },
  {
   "cell_type": "code",
   "execution_count": 44,
   "id": "2d02f02b",
   "metadata": {},
   "outputs": [
    {
     "data": {
      "text/plain": [
       "0.056991422047103946"
      ]
     },
     "execution_count": 44,
     "metadata": {},
     "output_type": "execute_result"
    }
   ],
   "source": [
    "Sharpe"
   ]
  },
  {
   "cell_type": "code",
   "execution_count": 19,
   "id": "51e31e99",
   "metadata": {},
   "outputs": [],
   "source": [
    "from scipy.optimize import minimize"
   ]
  },
  {
   "cell_type": "code",
   "execution_count": 48,
   "id": "3c05f289",
   "metadata": {},
   "outputs": [
    {
     "data": {
      "text/plain": [
       "0.0006458550742122128"
      ]
     },
     "execution_count": 48,
     "metadata": {},
     "output_type": "execute_result"
    }
   ],
   "source": [
    "np.dot( start_weights,np.dot(start_weights, asset_cov_matrix))"
   ]
  },
  {
   "cell_type": "code",
   "execution_count": 38,
   "id": "3aed4cd9",
   "metadata": {},
   "outputs": [
    {
     "data": {
      "text/plain": [
       "0.02541367887993025"
      ]
     },
     "execution_count": 38,
     "metadata": {},
     "output_type": "execute_result"
    }
   ],
   "source": [
    "volatility"
   ]
  },
  {
   "cell_type": "code",
   "execution_count": 37,
   "id": "d8517d3c",
   "metadata": {},
   "outputs": [
    {
     "data": {
      "text/html": [
       "<div>\n",
       "<style scoped>\n",
       "    .dataframe tbody tr th:only-of-type {\n",
       "        vertical-align: middle;\n",
       "    }\n",
       "\n",
       "    .dataframe tbody tr th {\n",
       "        vertical-align: top;\n",
       "    }\n",
       "\n",
       "    .dataframe thead th {\n",
       "        text-align: right;\n",
       "    }\n",
       "</style>\n",
       "<table border=\"1\" class=\"dataframe\">\n",
       "  <thead>\n",
       "    <tr style=\"text-align: right;\">\n",
       "      <th></th>\n",
       "      <th>AAPL</th>\n",
       "      <th>GOOG</th>\n",
       "      <th>MSFT</th>\n",
       "    </tr>\n",
       "  </thead>\n",
       "  <tbody>\n",
       "    <tr>\n",
       "      <th>AAPL</th>\n",
       "      <td>0.000868</td>\n",
       "      <td>0.000537</td>\n",
       "      <td>0.000686</td>\n",
       "    </tr>\n",
       "    <tr>\n",
       "      <th>GOOG</th>\n",
       "      <td>0.000537</td>\n",
       "      <td>0.000585</td>\n",
       "      <td>0.000572</td>\n",
       "    </tr>\n",
       "    <tr>\n",
       "      <th>MSFT</th>\n",
       "      <td>0.000686</td>\n",
       "      <td>0.000572</td>\n",
       "      <td>0.000769</td>\n",
       "    </tr>\n",
       "  </tbody>\n",
       "</table>\n",
       "</div>"
      ],
      "text/plain": [
       "          AAPL      GOOG      MSFT\n",
       "AAPL  0.000868  0.000537  0.000686\n",
       "GOOG  0.000537  0.000585  0.000572\n",
       "MSFT  0.000686  0.000572  0.000769"
      ]
     },
     "execution_count": 37,
     "metadata": {},
     "output_type": "execute_result"
    }
   ],
   "source": [
    "asset_cov_matrix"
   ]
  },
  {
   "cell_type": "code",
   "execution_count": 5,
   "id": "ea93cd73",
   "metadata": {},
   "outputs": [
    {
     "data": {
      "text/plain": [
       "AAPL    0.002769\n",
       "GOOG    0.001252\n",
       "MSFT    0.001711\n",
       "dtype: float64"
      ]
     },
     "execution_count": 5,
     "metadata": {},
     "output_type": "execute_result"
    }
   ],
   "source": [
    "average_asset_returns"
   ]
  },
  {
   "cell_type": "code",
   "execution_count": 14,
   "id": "f050a059",
   "metadata": {},
   "outputs": [
    {
     "data": {
      "text/plain": [
       "AAPL    1.365584\n",
       "GOOG    1.158482\n",
       "MSFT    1.201645\n",
       "dtype: float64"
      ]
     },
     "execution_count": 14,
     "metadata": {},
     "output_type": "execute_result"
    }
   ],
   "source": [
    "portfolio_market_gap = asset_returns - benchmark_returns.values\n",
    "downside = portfolio_market_gap[portfolio_market_gap < 0].fillna(0).std()\n",
    "upside = portfolio_market_gap[portfolio_market_gap > 0].fillna(0).std()\n",
    "omega = upside/downside\n",
    "omega"
   ]
  },
  {
   "cell_type": "code",
   "execution_count": 13,
   "id": "b9afccac",
   "metadata": {},
   "outputs": [
    {
     "data": {
      "text/html": [
       "<div>\n",
       "<style scoped>\n",
       "    .dataframe tbody tr th:only-of-type {\n",
       "        vertical-align: middle;\n",
       "    }\n",
       "\n",
       "    .dataframe tbody tr th {\n",
       "        vertical-align: top;\n",
       "    }\n",
       "\n",
       "    .dataframe thead th {\n",
       "        text-align: right;\n",
       "    }\n",
       "</style>\n",
       "<table border=\"1\" class=\"dataframe\">\n",
       "  <thead>\n",
       "    <tr style=\"text-align: right;\">\n",
       "      <th></th>\n",
       "      <th>AAPL</th>\n",
       "      <th>GOOG</th>\n",
       "      <th>MSFT</th>\n",
       "    </tr>\n",
       "    <tr>\n",
       "      <th>Date</th>\n",
       "      <th></th>\n",
       "      <th></th>\n",
       "      <th></th>\n",
       "    </tr>\n",
       "  </thead>\n",
       "  <tbody>\n",
       "    <tr>\n",
       "      <th>2020-01-03</th>\n",
       "      <td>-0.002662</td>\n",
       "      <td>0.002153</td>\n",
       "      <td>-0.005392</td>\n",
       "    </tr>\n",
       "    <tr>\n",
       "      <th>2020-01-06</th>\n",
       "      <td>0.004435</td>\n",
       "      <td>0.021124</td>\n",
       "      <td>-0.000949</td>\n",
       "    </tr>\n",
       "    <tr>\n",
       "      <th>2020-01-07</th>\n",
       "      <td>-0.001900</td>\n",
       "      <td>0.002179</td>\n",
       "      <td>-0.006314</td>\n",
       "    </tr>\n",
       "    <tr>\n",
       "      <th>2020-01-08</th>\n",
       "      <td>0.011184</td>\n",
       "      <td>0.002978</td>\n",
       "      <td>0.011026</td>\n",
       "    </tr>\n",
       "    <tr>\n",
       "      <th>2020-01-09</th>\n",
       "      <td>0.014586</td>\n",
       "      <td>0.004389</td>\n",
       "      <td>0.005838</td>\n",
       "    </tr>\n",
       "    <tr>\n",
       "      <th>...</th>\n",
       "      <td>...</td>\n",
       "      <td>...</td>\n",
       "      <td>...</td>\n",
       "    </tr>\n",
       "    <tr>\n",
       "      <th>2020-12-23</th>\n",
       "      <td>-0.007722</td>\n",
       "      <td>0.004406</td>\n",
       "      <td>-0.013785</td>\n",
       "    </tr>\n",
       "    <tr>\n",
       "      <th>2020-12-24</th>\n",
       "      <td>0.004175</td>\n",
       "      <td>0.000198</td>\n",
       "      <td>0.004291</td>\n",
       "    </tr>\n",
       "    <tr>\n",
       "      <th>2020-12-28</th>\n",
       "      <td>0.027043</td>\n",
       "      <td>0.012694</td>\n",
       "      <td>0.001199</td>\n",
       "    </tr>\n",
       "    <tr>\n",
       "      <th>2020-12-29</th>\n",
       "      <td>-0.011087</td>\n",
       "      <td>-0.007553</td>\n",
       "      <td>-0.001373</td>\n",
       "    </tr>\n",
       "    <tr>\n",
       "      <th>2020-12-30</th>\n",
       "      <td>-0.009868</td>\n",
       "      <td>-0.012259</td>\n",
       "      <td>-0.012361</td>\n",
       "    </tr>\n",
       "  </tbody>\n",
       "</table>\n",
       "<p>251 rows × 3 columns</p>\n",
       "</div>"
      ],
      "text/plain": [
       "                AAPL      GOOG      MSFT\n",
       "Date                                    \n",
       "2020-01-03 -0.002662  0.002153 -0.005392\n",
       "2020-01-06  0.004435  0.021124 -0.000949\n",
       "2020-01-07 -0.001900  0.002179 -0.006314\n",
       "2020-01-08  0.011184  0.002978  0.011026\n",
       "2020-01-09  0.014586  0.004389  0.005838\n",
       "...              ...       ...       ...\n",
       "2020-12-23 -0.007722  0.004406 -0.013785\n",
       "2020-12-24  0.004175  0.000198  0.004291\n",
       "2020-12-28  0.027043  0.012694  0.001199\n",
       "2020-12-29 -0.011087 -0.007553 -0.001373\n",
       "2020-12-30 -0.009868 -0.012259 -0.012361\n",
       "\n",
       "[251 rows x 3 columns]"
      ]
     },
     "execution_count": 13,
     "metadata": {},
     "output_type": "execute_result"
    }
   ],
   "source": [
    "portfolio_market_gap"
   ]
  },
  {
   "cell_type": "code",
   "execution_count": null,
   "id": "f1be2942",
   "metadata": {},
   "outputs": [],
   "source": []
  },
  {
   "cell_type": "code",
   "execution_count": null,
   "id": "09412e00",
   "metadata": {},
   "outputs": [],
   "source": []
  },
  {
   "cell_type": "code",
   "execution_count": null,
   "id": "c3161948",
   "metadata": {},
   "outputs": [],
   "source": []
  },
  {
   "cell_type": "code",
   "execution_count": null,
   "id": "626ebb88",
   "metadata": {},
   "outputs": [],
   "source": []
  },
  {
   "cell_type": "code",
   "execution_count": null,
   "id": "559c8c2d",
   "metadata": {},
   "outputs": [],
   "source": []
  },
  {
   "cell_type": "code",
   "execution_count": null,
   "id": "6d9b9ed7",
   "metadata": {},
   "outputs": [],
   "source": []
  }
 ],
 "metadata": {
  "kernelspec": {
   "display_name": "Python 3 (ipykernel)",
   "language": "python",
   "name": "python3"
  },
  "language_info": {
   "codemirror_mode": {
    "name": "ipython",
    "version": 3
   },
   "file_extension": ".py",
   "mimetype": "text/x-python",
   "name": "python",
   "nbconvert_exporter": "python",
   "pygments_lexer": "ipython3",
   "version": "3.9.12"
  }
 },
 "nbformat": 4,
 "nbformat_minor": 5
}
