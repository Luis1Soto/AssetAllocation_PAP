{
 "cells": [
  {
   "cell_type": "code",
   "execution_count": 3,
   "id": "f5ac6342",
   "metadata": {},
   "outputs": [],
   "source": [
    "import yfinance as yf\n",
    "import pandas as pd\n",
    "import numpy as np \n",
    "import warnings\n",
    "warnings.filterwarnings('ignore')\n",
    "\n",
    "from AA import DataDownloader, AssetAllocation"
   ]
  },
  {
   "cell_type": "code",
   "execution_count": 6,
   "id": "09a664d0",
   "metadata": {},
   "outputs": [
    {
     "name": "stdout",
     "output_type": "stream",
     "text": [
      "[*********************100%%**********************]  5 of 5 completed\n",
      "[*********************100%%**********************]  1 of 1 completed\n"
     ]
    }
   ],
   "source": [
    "downloader = DataDownloader()\n",
    "\n",
    "assets = ['AAPL', 'IBM', 'TSLA', 'GOOG', 'NVDA'] \n",
    "benchmark = '^GSPC'  \n",
    "start_date = '2019-01-01'\n",
    "end_date = '2023-12-31'\n",
    "rf = .065\n",
    "\n",
    "asset_prices, benchmark_prices = downloader.download_data(start_date= start_date, end_date= end_date,\n",
    "                                                          assets= assets, benchmark=benchmark)\n",
    "\n",
    "\n",
    "# Default limits for every asset (min 1% - max 100%):  boounds = tuple((0.01, 1) for _ in range(self.num_assets))\n",
    "Asset_allocation = AssetAllocation(asset_prices = asset_prices,benchmark_prices = benchmark_prices, rf=rf)"
   ]
  },
  {
   "cell_type": "code",
   "execution_count": 7,
   "id": "74b13709",
   "metadata": {},
   "outputs": [
    {
     "data": {
      "text/html": [
       "<div>\n",
       "<style scoped>\n",
       "    .dataframe tbody tr th:only-of-type {\n",
       "        vertical-align: middle;\n",
       "    }\n",
       "\n",
       "    .dataframe tbody tr th {\n",
       "        vertical-align: top;\n",
       "    }\n",
       "\n",
       "    .dataframe thead th {\n",
       "        text-align: right;\n",
       "    }\n",
       "</style>\n",
       "<table border=\"1\" class=\"dataframe\">\n",
       "  <thead>\n",
       "    <tr style=\"text-align: right;\">\n",
       "      <th></th>\n",
       "      <th>AAPL</th>\n",
       "      <th>GOOG</th>\n",
       "      <th>IBM</th>\n",
       "      <th>NVDA</th>\n",
       "      <th>TSLA</th>\n",
       "      <th>Optimized Value</th>\n",
       "    </tr>\n",
       "  </thead>\n",
       "  <tbody>\n",
       "    <tr>\n",
       "      <th>Max Sharpe</th>\n",
       "      <td>0.176222</td>\n",
       "      <td>0.032408</td>\n",
       "      <td>0.015865</td>\n",
       "      <td>0.535341</td>\n",
       "      <td>0.240165</td>\n",
       "      <td>0.079650</td>\n",
       "    </tr>\n",
       "    <tr>\n",
       "      <th>Max Omega</th>\n",
       "      <td>0.067144</td>\n",
       "      <td>0.011577</td>\n",
       "      <td>0.039909</td>\n",
       "      <td>0.830420</td>\n",
       "      <td>0.050949</td>\n",
       "      <td>1.264147</td>\n",
       "    </tr>\n",
       "    <tr>\n",
       "      <th>Min VaR (Empirical)</th>\n",
       "      <td>0.028690</td>\n",
       "      <td>0.027527</td>\n",
       "      <td>0.041368</td>\n",
       "      <td>0.089152</td>\n",
       "      <td>0.813263</td>\n",
       "      <td>-0.052241</td>\n",
       "    </tr>\n",
       "    <tr>\n",
       "      <th>Min VaR (Parametric)</th>\n",
       "      <td>0.203531</td>\n",
       "      <td>0.181285</td>\n",
       "      <td>0.573807</td>\n",
       "      <td>0.020320</td>\n",
       "      <td>0.021057</td>\n",
       "      <td>-0.024602</td>\n",
       "    </tr>\n",
       "  </tbody>\n",
       "</table>\n",
       "</div>"
      ],
      "text/plain": [
       "                          AAPL      GOOG       IBM      NVDA      TSLA  \\\n",
       "Max Sharpe            0.176222  0.032408  0.015865  0.535341  0.240165   \n",
       "Max Omega             0.067144  0.011577  0.039909  0.830420  0.050949   \n",
       "Min VaR (Empirical)   0.028690  0.027527  0.041368  0.089152  0.813263   \n",
       "Min VaR (Parametric)  0.203531  0.181285  0.573807  0.020320  0.021057   \n",
       "\n",
       "                      Optimized Value  \n",
       "Max Sharpe                   0.079650  \n",
       "Max Omega                    1.264147  \n",
       "Min VaR (Empirical)         -0.052241  \n",
       "Min VaR (Parametric)        -0.024602  "
      ]
     },
     "execution_count": 7,
     "metadata": {},
     "output_type": "execute_result"
    }
   ],
   "source": [
    "Asset_allocation.Optimize_Portfolio(n_simulations = 10000) #Default Method == \"Montecarlo\""
   ]
  },
  {
   "cell_type": "code",
   "execution_count": 8,
   "id": "734aede0",
   "metadata": {},
   "outputs": [
    {
     "data": {
      "text/html": [
       "<div>\n",
       "<style scoped>\n",
       "    .dataframe tbody tr th:only-of-type {\n",
       "        vertical-align: middle;\n",
       "    }\n",
       "\n",
       "    .dataframe tbody tr th {\n",
       "        vertical-align: top;\n",
       "    }\n",
       "\n",
       "    .dataframe thead th {\n",
       "        text-align: right;\n",
       "    }\n",
       "</style>\n",
       "<table border=\"1\" class=\"dataframe\">\n",
       "  <thead>\n",
       "    <tr style=\"text-align: right;\">\n",
       "      <th></th>\n",
       "      <th>AAPL</th>\n",
       "      <th>GOOG</th>\n",
       "      <th>IBM</th>\n",
       "      <th>NVDA</th>\n",
       "      <th>TSLA</th>\n",
       "      <th>Optimized Value</th>\n",
       "    </tr>\n",
       "  </thead>\n",
       "  <tbody>\n",
       "    <tr>\n",
       "      <th>Max Sharpe</th>\n",
       "      <td>0.221457</td>\n",
       "      <td>0.010000</td>\n",
       "      <td>0.01000</td>\n",
       "      <td>0.50168</td>\n",
       "      <td>0.256863</td>\n",
       "      <td>0.079996</td>\n",
       "    </tr>\n",
       "    <tr>\n",
       "      <th>Max Omega</th>\n",
       "      <td>0.010000</td>\n",
       "      <td>0.010000</td>\n",
       "      <td>0.01000</td>\n",
       "      <td>0.96000</td>\n",
       "      <td>0.010000</td>\n",
       "      <td>1.288639</td>\n",
       "    </tr>\n",
       "    <tr>\n",
       "      <th>Min VaR (Empirical)</th>\n",
       "      <td>0.010000</td>\n",
       "      <td>0.010000</td>\n",
       "      <td>0.01000</td>\n",
       "      <td>0.38920</td>\n",
       "      <td>0.580800</td>\n",
       "      <td>-0.049680</td>\n",
       "    </tr>\n",
       "    <tr>\n",
       "      <th>Min VaR (Parametric)</th>\n",
       "      <td>0.156482</td>\n",
       "      <td>0.217159</td>\n",
       "      <td>0.60636</td>\n",
       "      <td>0.01000</td>\n",
       "      <td>0.010000</td>\n",
       "      <td>-0.024424</td>\n",
       "    </tr>\n",
       "  </tbody>\n",
       "</table>\n",
       "</div>"
      ],
      "text/plain": [
       "                          AAPL      GOOG      IBM     NVDA      TSLA  \\\n",
       "Max Sharpe            0.221457  0.010000  0.01000  0.50168  0.256863   \n",
       "Max Omega             0.010000  0.010000  0.01000  0.96000  0.010000   \n",
       "Min VaR (Empirical)   0.010000  0.010000  0.01000  0.38920  0.580800   \n",
       "Min VaR (Parametric)  0.156482  0.217159  0.60636  0.01000  0.010000   \n",
       "\n",
       "                      Optimized Value  \n",
       "Max Sharpe                   0.079996  \n",
       "Max Omega                    1.288639  \n",
       "Min VaR (Empirical)         -0.049680  \n",
       "Min VaR (Parametric)        -0.024424  "
      ]
     },
     "execution_count": 8,
     "metadata": {},
     "output_type": "execute_result"
    }
   ],
   "source": [
    "Asset_allocation.Optimize_Portfolio(method = \"SLSQP\")"
   ]
  },
  {
   "cell_type": "code",
   "execution_count": null,
   "id": "efab7a62",
   "metadata": {},
   "outputs": [],
   "source": [
    "Asset_allocation.Optimize_Portfolio(method = \"Genetic\", population_size=100, generations=200, crossover_rate=0.7, mutation_rate=0.1)"
   ]
  },
  {
   "cell_type": "code",
   "execution_count": null,
   "id": "d582dc05",
   "metadata": {},
   "outputs": [],
   "source": [
    "Asset_allocation.Optimize_Portfolio(method = \"Gradient\", learning_rate=0.01, max_iters=1000, tol=1e-6)"
   ]
  },
  {
   "cell_type": "markdown",
   "id": "71cab513",
   "metadata": {},
   "source": [
    "-----"
   ]
  },
  {
   "cell_type": "markdown",
   "id": "ec53dc1c",
   "metadata": {},
   "source": [
    "-------"
   ]
  },
  {
   "cell_type": "markdown",
   "id": "1f1327ef",
   "metadata": {},
   "source": [
    "--------------"
   ]
  },
  {
   "cell_type": "markdown",
   "id": "448b6b66",
   "metadata": {},
   "source": [
    "----------"
   ]
  }
 ],
 "metadata": {
  "kernelspec": {
   "display_name": "Python 3 (ipykernel)",
   "language": "python",
   "name": "python3"
  },
  "language_info": {
   "codemirror_mode": {
    "name": "ipython",
    "version": 3
   },
   "file_extension": ".py",
   "mimetype": "text/x-python",
   "name": "python",
   "nbconvert_exporter": "python",
   "pygments_lexer": "ipython3",
   "version": "3.11.4"
  }
 },
 "nbformat": 4,
 "nbformat_minor": 5
}
