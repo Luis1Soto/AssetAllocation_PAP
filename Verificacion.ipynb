{
 "cells": [
  {
   "cell_type": "code",
   "execution_count": 1,
   "id": "705e911e",
   "metadata": {},
   "outputs": [],
   "source": [
    "import yfinance as yf\n",
    "import pandas as pd\n",
    "import numpy as np \n",
    "import warnings\n",
    "warnings.filterwarnings('ignore')\n",
    "\n",
    "from AA import DataDownloader, AssetAllocation"
   ]
  },
  {
   "cell_type": "code",
   "execution_count": null,
   "id": "36bb31f4",
   "metadata": {},
   "outputs": [
    {
     "name": "stdout",
     "output_type": "stream",
     "text": [
      "[*********************100%%**********************]  5 of 5 completed\n"
     ]
    }
   ],
   "source": [
    "downloader = DataDownloader()\n",
    "\n",
    "assets = ['AAPL', 'IBM', 'TSLA', 'GOOG', 'NVDA'] \n",
    "benchmark = '^GSPC'  \n",
    "start_date = '2019-01-01'\n",
    "end_date = '2023-12-31'\n",
    "rf = .065\n",
    "ff_factors_expectations = {'Mkt-RF': 0.05, 'SMB': 0.02, 'HML': 0.03, 'RF': 0.02}\n",
    "\n",
    "asset_prices, benchmark_prices, ff_factors = downloader.download_data(start_date=start_date, end_date=end_date,\n",
    "                                                                      assets=assets, benchmark=benchmark)\n",
    "\n",
    "# Default limits for every asset (min 1% - max 100%):  boounds = tuple((0.01, 1) for _ in range(self.num_assets))\n",
    "Asset_allocation = AssetAllocation(asset_prices=asset_prices, benchmark_prices=benchmark_prices, rf=rf, ff_factors=ff_factors) \n",
    "Asset_allocation.calculate_ff_expected_returns(ff_factors_expectations)"
   ]
  },
  {
   "cell_type": "markdown",
   "id": "316ce30c",
   "metadata": {},
   "source": [
    "### RMT Filter"
   ]
  },
  {
   "cell_type": "code",
   "execution_count": null,
   "id": "bb6afc54",
   "metadata": {},
   "outputs": [],
   "source": [
    "#Matriz original de covarianzas\n",
    "Asset_allocation.asset_cov_matrix"
   ]
  },
  {
   "cell_type": "code",
   "execution_count": null,
   "id": "99e3675c",
   "metadata": {},
   "outputs": [],
   "source": [
    "#\n",
    "eigenvalues, eigenvectors = np.linalg.eigh(Asset_allocation.asset_cov_matrix)\n",
    "eigenvalues, eigenvectors"
   ]
  },
  {
   "cell_type": "code",
   "execution_count": null,
   "id": "c07a68b2",
   "metadata": {},
   "outputs": [],
   "source": [
    "T, N = Asset_allocation.asset_returns.shape\n",
    "T, N"
   ]
  },
  {
   "cell_type": "code",
   "execution_count": null,
   "id": "869f0390",
   "metadata": {},
   "outputs": [],
   "source": [
    "sigma_squared = np.mean(np.diag(Asset_allocation.asset_cov_matrix))\n",
    "sigma_squared "
   ]
  },
  {
   "cell_type": "code",
   "execution_count": null,
   "id": "91f5212a",
   "metadata": {},
   "outputs": [],
   "source": [
    "lambda_plus = sigma_squared * (1 + np.sqrt(N/T))**2\n",
    "lambda_plus"
   ]
  },
  {
   "cell_type": "code",
   "execution_count": null,
   "id": "c5d5429e",
   "metadata": {},
   "outputs": [],
   "source": [
    "filtered_eigenvalues = np.clip(eigenvalues, 0, lambda_plus)\n",
    "filtered_eigenvalues"
   ]
  },
  {
   "cell_type": "code",
   "execution_count": null,
   "id": "b6c43535",
   "metadata": {},
   "outputs": [],
   "source": [
    "filtered_eigenvalues - eigenvalues"
   ]
  },
  {
   "cell_type": "code",
   "execution_count": null,
   "id": "681ff2f2",
   "metadata": {},
   "outputs": [],
   "source": [
    "# Matriz filtrada=Eigenvectores×Matriz Diagonal de Eigenvalores Filtrados×Eigenvectores \n",
    "\n",
    "filtered_cov_matrix = eigenvectors @ np.diag(filtered_eigenvalues) @ eigenvectors.T\n",
    "pd.DataFrame(filtered_cov_matrix)"
   ]
  },
  {
   "cell_type": "markdown",
   "id": "49d31b52",
   "metadata": {},
   "source": [
    "### Asset Allocation"
   ]
  },
  {
   "cell_type": "code",
   "execution_count": null,
   "id": "afe1f833",
   "metadata": {},
   "outputs": [],
   "source": [
    "optimizations = Asset_allocation.Optimize_Portfolio(method = \"SLSQP\")\n",
    "optimizations"
   ]
  },
  {
   "cell_type": "markdown",
   "id": "7dfe04f7",
   "metadata": {},
   "source": [
    "Usando el mismo timeframe y activos calculamos las metricas con los pesos datos por la optimizacion y verificamos el valor del porceso manual y la class AssetAllocation"
   ]
  },
  {
   "cell_type": "markdown",
   "id": "440e0998",
   "metadata": {},
   "source": [
    "### Sharpe "
   ]
  },
  {
   "cell_type": "code",
   "execution_count": null,
   "id": "9d83817d",
   "metadata": {},
   "outputs": [],
   "source": [
    "Weights_Sharpe, Value_Sharpe = optimizations.loc[\"Max Sharpe\"][:-1], optimizations.loc[\"Max Sharpe\"][-1]\n",
    "weights = Weights_Sharpe\n",
    "\n",
    "#retornos de activos\n",
    "returns = asset_prices.pct_change().dropna()\n",
    "returns.head()"
   ]
  },
  {
   "cell_type": "code",
   "execution_count": null,
   "id": "cea8626d",
   "metadata": {},
   "outputs": [],
   "source": [
    "#retornos del portafolio\n",
    "portfolio_returns = returns.dot(weights)\n",
    "portfolio_returns.head()"
   ]
  },
  {
   "cell_type": "code",
   "execution_count": null,
   "id": "439d83a1",
   "metadata": {},
   "outputs": [],
   "source": [
    "#retornos menos la tasa libre de riesgo diaria\n",
    "excess_returns_daily = portfolio_returns - (rf / 252)\n",
    "excess_returns_daily\n"
   ]
  },
  {
   "cell_type": "code",
   "execution_count": null,
   "id": "925c6061",
   "metadata": {},
   "outputs": [],
   "source": [
    "# Anualizamos el promedio  de la resta para obtener rendimiento promedio anual del portafolio\n",
    "excess_returns_annualized = excess_returns_daily.mean() * 252\n",
    "excess_returns_annualized"
   ]
  },
  {
   "cell_type": "code",
   "execution_count": null,
   "id": "be165234",
   "metadata": {},
   "outputs": [],
   "source": [
    "# Calculamos volatilidad anual del portafolio\n",
    "portfolio_volatility = portfolio_returns.std() * np.sqrt(252)\n",
    "portfolio_volatility "
   ]
  },
  {
   "cell_type": "code",
   "execution_count": null,
   "id": "6eb9056f",
   "metadata": {},
   "outputs": [],
   "source": [
    "# Calculamos Sharpe\n",
    "sharpe_ratio = excess_returns_annualized / portfolio_volatility\n",
    "sharpe_ratio"
   ]
  },
  {
   "cell_type": "code",
   "execution_count": null,
   "id": "7192063d",
   "metadata": {},
   "outputs": [],
   "source": [
    "# Comparamos\n",
    "round(sharpe_ratio - Value_Sharpe, 10)"
   ]
  },
  {
   "cell_type": "markdown",
   "id": "1362e99c",
   "metadata": {},
   "source": [
    "**Diferencia menor a $ 1e^{-10}$**"
   ]
  },
  {
   "cell_type": "markdown",
   "id": "1800e3ca",
   "metadata": {},
   "source": [
    "### Omega"
   ]
  },
  {
   "cell_type": "code",
   "execution_count": null,
   "id": "6dcd70fb",
   "metadata": {},
   "outputs": [],
   "source": [
    "Weights_Omega, Value_Omega = optimizations.loc[\"Max Omega\"][:-1], optimizations.loc[\"Max Omega\"][-1]\n",
    "weights = Weights_Omega\n",
    "\n",
    "weights"
   ]
  },
  {
   "cell_type": "code",
   "execution_count": null,
   "id": "2afa506e",
   "metadata": {},
   "outputs": [],
   "source": [
    "# Retornos de activos\n",
    "returns = asset_prices.pct_change().dropna()\n",
    "portfolio_returns = pd.DataFrame(returns.dot(weights)) \n",
    "portfolio_returns"
   ]
  },
  {
   "cell_type": "code",
   "execution_count": null,
   "id": "17b7d652",
   "metadata": {
    "scrolled": false
   },
   "outputs": [],
   "source": [
    "# Calcular los retornos diarios del benchmark\n",
    "benchmark_returns = benchmark_prices.pct_change().dropna()  \n",
    "benchmark_returns "
   ]
  },
  {
   "cell_type": "code",
   "execution_count": null,
   "id": "b809da63",
   "metadata": {},
   "outputs": [],
   "source": [
    "# Obtener diferencia del portafolio respecto al benchmark\n",
    "excess_returns = portfolio_returns[0] -  benchmark_returns[benchmark_returns.columns[0]] \n",
    "excess_returns"
   ]
  },
  {
   "cell_type": "code",
   "execution_count": null,
   "id": "93b76437",
   "metadata": {},
   "outputs": [],
   "source": [
    "positive_excess = excess_returns[excess_returns > 0].sum()\n",
    "negative_excess = -excess_returns[excess_returns < 0].sum()\n",
    "positive_excess, negative_excess"
   ]
  },
  {
   "cell_type": "code",
   "execution_count": null,
   "id": "e4f79d02",
   "metadata": {},
   "outputs": [],
   "source": [
    "omega_ratio = positive_excess / negative_excess\n",
    "omega_ratio"
   ]
  },
  {
   "cell_type": "code",
   "execution_count": null,
   "id": "6eb50382",
   "metadata": {},
   "outputs": [],
   "source": [
    "# Comparamos\n",
    "round(omega_ratio - Value_Omega, 10)"
   ]
  },
  {
   "cell_type": "markdown",
   "id": "23b83fdd",
   "metadata": {},
   "source": [
    "**Diferencia menor a $ 1e^{-10}$**"
   ]
  },
  {
   "cell_type": "markdown",
   "id": "8b1b4801",
   "metadata": {},
   "source": [
    "### Safety First Ratio"
   ]
  },
  {
   "cell_type": "code",
   "execution_count": null,
   "id": "23ceff8f",
   "metadata": {},
   "outputs": [],
   "source": [
    "Weights_SFRatio, Value_SFRatio = optimizations.loc[\"Safety-First\"][:-1], optimizations.loc[\"Safety-First\"][-1]\n",
    "weights = Weights_SFRatio\n",
    "\n",
    "weights"
   ]
  },
  {
   "cell_type": "code",
   "execution_count": null,
   "id": "92c1e747",
   "metadata": {},
   "outputs": [],
   "source": [
    "# Retorno del portafolio\n",
    "returns = asset_prices.pct_change().dropna()\n",
    "portfolio_returns = pd.DataFrame(returns.dot(weights)) \n",
    "portfolio_returns"
   ]
  },
  {
   "cell_type": "code",
   "execution_count": null,
   "id": "9baf9c5e",
   "metadata": {},
   "outputs": [],
   "source": [
    "# Retorno del portafolio\n",
    "portfolio_return = portfolio_returns.mean().item()\n",
    "portfolio_return"
   ]
  },
  {
   "cell_type": "code",
   "execution_count": null,
   "id": "379a7234",
   "metadata": {},
   "outputs": [],
   "source": [
    "# Retorno Mínimo Aceptable (MAR)\n",
    "MAF = rf / 252\n",
    "MAF"
   ]
  },
  {
   "cell_type": "code",
   "execution_count": null,
   "id": "cb2e4314",
   "metadata": {},
   "outputs": [],
   "source": [
    "# Volatilidad del portafolio\n",
    "cov_matrix = returns.cov()\n",
    "portfolio_vol = np.sqrt(np.dot(weights.T, np.dot(cov_matrix, weights)))\n",
    "portfolio_vol"
   ]
  },
  {
   "cell_type": "code",
   "execution_count": null,
   "id": "e0f18010",
   "metadata": {},
   "outputs": [],
   "source": [
    "# Calculamos el SFratio\n",
    "SFratio = (portfolio_return - MAF) / portfolio_vol\n",
    "\n",
    "print(f\"Safety First Ratio: {SFratio}\")"
   ]
  },
  {
   "cell_type": "code",
   "execution_count": null,
   "id": "a987784b",
   "metadata": {},
   "outputs": [],
   "source": [
    "# Comparamos\n",
    "round(SFratio - Value_SFRatio, 10)"
   ]
  },
  {
   "cell_type": "markdown",
   "id": "34c8ec9f",
   "metadata": {},
   "source": [
    "**Diferencia menor a $ 1e^{-10}$**"
   ]
  },
  {
   "cell_type": "code",
   "execution_count": null,
   "id": "bd9324e6",
   "metadata": {},
   "outputs": [],
   "source": []
  },
  {
   "cell_type": "code",
   "execution_count": null,
   "id": "541738ad",
   "metadata": {},
   "outputs": [],
   "source": []
  }
 ],
 "metadata": {
  "kernelspec": {
   "display_name": "Python 3 (ipykernel)",
   "language": "python",
   "name": "python3"
  },
  "language_info": {
   "codemirror_mode": {
    "name": "ipython",
    "version": 3
   },
   "file_extension": ".py",
   "mimetype": "text/x-python",
   "name": "python",
   "nbconvert_exporter": "python",
   "pygments_lexer": "ipython3",
   "version": "3.9.12"
  }
 },
 "nbformat": 4,
 "nbformat_minor": 5
}
