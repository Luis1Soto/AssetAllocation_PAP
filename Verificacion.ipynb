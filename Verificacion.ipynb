{
 "cells": [
  {
   "cell_type": "code",
   "execution_count": 1,
   "id": "705e911e",
   "metadata": {},
   "outputs": [],
   "source": [
    "import yfinance as yf\n",
    "import pandas as pd\n",
    "import numpy as np \n",
    "import warnings\n",
    "from pypfopt import risk_models\n",
    "from pypfopt import expected_returns\n",
    "from pypfopt.hierarchical_portfolio import HRPOpt\n",
    "warnings.filterwarnings('ignore')\n",
    "\n",
    "from AA import DataDownloader, AssetAllocation"
   ]
  },
  {
   "cell_type": "code",
   "execution_count": 2,
   "id": "36bb31f4",
   "metadata": {},
   "outputs": [
    {
     "name": "stdout",
     "output_type": "stream",
     "text": [
      "[*********************100%%**********************]  5 of 5 completed\n",
      "[*********************100%%**********************]  1 of 1 completed\n"
     ]
    }
   ],
   "source": [
    "downloader = DataDownloader()\n",
    "\n",
    "assets = ['AAPL', 'IBM', 'TSLA', 'GOOG', 'NVDA'] \n",
    "benchmark = '^GSPC'  \n",
    "start_date = '2019-01-01'\n",
    "end_date = '2023-12-31'\n",
    "rf = .065\n",
    "ff_factors_expectations = {'Mkt-RF': 0.05, 'SMB': 0.02, 'HML': 0.03, 'RF': 0.02}\n",
    "\n",
    "asset_prices, benchmark_prices, ff_factors = downloader.download_data(start_date=start_date, end_date=end_date,\n",
    "                                                                      assets=assets, benchmark=benchmark)\n",
    "\n",
    "# Default limits for every asset (min 1% - max 100%):  boounds = tuple((0.01, 1) for _ in range(self.num_assets))\n",
    "Asset_allocation = AssetAllocation(asset_prices=asset_prices, benchmark_prices=benchmark_prices, rf=rf, ff_factors=ff_factors) \n",
    "Asset_allocation.calculate_ff_expected_returns(ff_factors_expectations)"
   ]
  },
  {
   "cell_type": "code",
   "execution_count": 3,
   "id": "d7efea2e",
   "metadata": {},
   "outputs": [],
   "source": [
    "# Set Black-Litterman Expectations (Optional) \n",
    "\n",
    "P = np.array([\n",
    "    [1, 0, 0, -1, 0],  \n",
    "    [0, 1, -1, 0, 0],\n",
    "    [0, 0, 0, 0, 1],\n",
    "])\n",
    "\n",
    "Q = np.array([0.05,  \n",
    "              0.03,\n",
    "              -0.15])  \n",
    "\n",
    "Omega = np.diag([0.1**2, 0.15**2, 0.08**2])  # Incertidumbre en las vistas\n",
    "tau = 0.08  # Incertidumbre en los rendimientos de equilibrio\n",
    "\n",
    "Asset_allocation.set_blacklitterman_expectations(P, Q, tau, Omega)"
   ]
  },
  {
   "cell_type": "markdown",
   "id": "316ce30c",
   "metadata": {},
   "source": [
    "### RMT Filter"
   ]
  },
  {
   "cell_type": "code",
   "execution_count": 4,
   "id": "bb6afc54",
   "metadata": {},
   "outputs": [
    {
     "data": {
      "text/html": [
       "<div>\n",
       "<style scoped>\n",
       "    .dataframe tbody tr th:only-of-type {\n",
       "        vertical-align: middle;\n",
       "    }\n",
       "\n",
       "    .dataframe tbody tr th {\n",
       "        vertical-align: top;\n",
       "    }\n",
       "\n",
       "    .dataframe thead th {\n",
       "        text-align: right;\n",
       "    }\n",
       "</style>\n",
       "<table border=\"1\" class=\"dataframe\">\n",
       "  <thead>\n",
       "    <tr style=\"text-align: right;\">\n",
       "      <th></th>\n",
       "      <th>AAPL</th>\n",
       "      <th>GOOG</th>\n",
       "      <th>IBM</th>\n",
       "      <th>NVDA</th>\n",
       "      <th>TSLA</th>\n",
       "    </tr>\n",
       "  </thead>\n",
       "  <tbody>\n",
       "    <tr>\n",
       "      <th>AAPL</th>\n",
       "      <td>0.000412</td>\n",
       "      <td>0.000274</td>\n",
       "      <td>0.000147</td>\n",
       "      <td>0.000435</td>\n",
       "      <td>0.000404</td>\n",
       "    </tr>\n",
       "    <tr>\n",
       "      <th>GOOG</th>\n",
       "      <td>0.000274</td>\n",
       "      <td>0.000402</td>\n",
       "      <td>0.000132</td>\n",
       "      <td>0.000408</td>\n",
       "      <td>0.000333</td>\n",
       "    </tr>\n",
       "    <tr>\n",
       "      <th>IBM</th>\n",
       "      <td>0.000147</td>\n",
       "      <td>0.000132</td>\n",
       "      <td>0.000272</td>\n",
       "      <td>0.000180</td>\n",
       "      <td>0.000131</td>\n",
       "    </tr>\n",
       "    <tr>\n",
       "      <th>NVDA</th>\n",
       "      <td>0.000435</td>\n",
       "      <td>0.000408</td>\n",
       "      <td>0.000180</td>\n",
       "      <td>0.001064</td>\n",
       "      <td>0.000666</td>\n",
       "    </tr>\n",
       "    <tr>\n",
       "      <th>TSLA</th>\n",
       "      <td>0.000404</td>\n",
       "      <td>0.000333</td>\n",
       "      <td>0.000131</td>\n",
       "      <td>0.000666</td>\n",
       "      <td>0.001661</td>\n",
       "    </tr>\n",
       "  </tbody>\n",
       "</table>\n",
       "</div>"
      ],
      "text/plain": [
       "          AAPL      GOOG       IBM      NVDA      TSLA\n",
       "AAPL  0.000412  0.000274  0.000147  0.000435  0.000404\n",
       "GOOG  0.000274  0.000402  0.000132  0.000408  0.000333\n",
       "IBM   0.000147  0.000132  0.000272  0.000180  0.000131\n",
       "NVDA  0.000435  0.000408  0.000180  0.001064  0.000666\n",
       "TSLA  0.000404  0.000333  0.000131  0.000666  0.001661"
      ]
     },
     "execution_count": 4,
     "metadata": {},
     "output_type": "execute_result"
    }
   ],
   "source": [
    "#Matriz original de covarianzas\n",
    "Asset_allocation.asset_cov_matrix"
   ]
  },
  {
   "cell_type": "code",
   "execution_count": 5,
   "id": "99e3675c",
   "metadata": {},
   "outputs": [
    {
     "data": {
      "text/plain": [
       "(array([0.00012864, 0.00017918, 0.00028566, 0.0007526 , 0.00246516]),\n",
       " array([[ 0.79203973, -0.24343067, -0.39148111, -0.26202989, -0.30248545],\n",
       "        [-0.58099927, -0.57790106, -0.40177392, -0.30510413, -0.27195478],\n",
       "        [-0.17498467,  0.75054629, -0.59337155, -0.19635615, -0.12415756],\n",
       "        [-0.04800429,  0.20494668,  0.57715689, -0.57904137, -0.53599764],\n",
       "        [-0.04678531,  0.03806582, -0.01097191,  0.68147425, -0.7292699 ]]))"
      ]
     },
     "execution_count": 5,
     "metadata": {},
     "output_type": "execute_result"
    }
   ],
   "source": [
    "#\n",
    "eigenvalues, eigenvectors = np.linalg.eigh(Asset_allocation.asset_cov_matrix)\n",
    "eigenvalues, eigenvectors"
   ]
  },
  {
   "cell_type": "code",
   "execution_count": 6,
   "id": "c07a68b2",
   "metadata": {},
   "outputs": [
    {
     "data": {
      "text/plain": [
       "(1257, 5)"
      ]
     },
     "execution_count": 6,
     "metadata": {},
     "output_type": "execute_result"
    }
   ],
   "source": [
    "T, N = Asset_allocation.asset_returns.shape\n",
    "T, N"
   ]
  },
  {
   "cell_type": "code",
   "execution_count": 7,
   "id": "869f0390",
   "metadata": {},
   "outputs": [
    {
     "data": {
      "text/plain": [
       "0.0007622494334697608"
      ]
     },
     "execution_count": 7,
     "metadata": {},
     "output_type": "execute_result"
    }
   ],
   "source": [
    "sigma_squared = np.mean(np.diag(Asset_allocation.asset_cov_matrix))\n",
    "sigma_squared "
   ]
  },
  {
   "cell_type": "code",
   "execution_count": 8,
   "id": "91f5212a",
   "metadata": {},
   "outputs": [
    {
     "data": {
      "text/plain": [
       "0.0008614303849375874"
      ]
     },
     "execution_count": 8,
     "metadata": {},
     "output_type": "execute_result"
    }
   ],
   "source": [
    "lambda_plus = sigma_squared * (1 + np.sqrt(N/T))**2\n",
    "lambda_plus"
   ]
  },
  {
   "cell_type": "code",
   "execution_count": 9,
   "id": "c5d5429e",
   "metadata": {},
   "outputs": [
    {
     "data": {
      "text/plain": [
       "array([0.00012864, 0.00017918, 0.00028566, 0.0007526 , 0.00086143])"
      ]
     },
     "execution_count": 9,
     "metadata": {},
     "output_type": "execute_result"
    }
   ],
   "source": [
    "filtered_eigenvalues = np.clip(eigenvalues, 0, lambda_plus)\n",
    "filtered_eigenvalues"
   ]
  },
  {
   "cell_type": "code",
   "execution_count": 10,
   "id": "b6c43535",
   "metadata": {},
   "outputs": [
    {
     "data": {
      "text/plain": [
       "array([ 0.        ,  0.        ,  0.        ,  0.        , -0.00160373])"
      ]
     },
     "execution_count": 10,
     "metadata": {},
     "output_type": "execute_result"
    }
   ],
   "source": [
    "filtered_eigenvalues - eigenvalues"
   ]
  },
  {
   "cell_type": "code",
   "execution_count": 11,
   "id": "681ff2f2",
   "metadata": {},
   "outputs": [
    {
     "data": {
      "text/html": [
       "<div>\n",
       "<style scoped>\n",
       "    .dataframe tbody tr th:only-of-type {\n",
       "        vertical-align: middle;\n",
       "    }\n",
       "\n",
       "    .dataframe tbody tr th {\n",
       "        vertical-align: top;\n",
       "    }\n",
       "\n",
       "    .dataframe thead th {\n",
       "        text-align: right;\n",
       "    }\n",
       "</style>\n",
       "<table border=\"1\" class=\"dataframe\">\n",
       "  <thead>\n",
       "    <tr style=\"text-align: right;\">\n",
       "      <th></th>\n",
       "      <th>0</th>\n",
       "      <th>1</th>\n",
       "      <th>2</th>\n",
       "      <th>3</th>\n",
       "      <th>4</th>\n",
       "    </tr>\n",
       "  </thead>\n",
       "  <tbody>\n",
       "    <tr>\n",
       "      <th>0</th>\n",
       "      <td>0.000266</td>\n",
       "      <td>0.000142</td>\n",
       "      <td>0.000087</td>\n",
       "      <td>0.000175</td>\n",
       "      <td>0.000050</td>\n",
       "    </tr>\n",
       "    <tr>\n",
       "      <th>1</th>\n",
       "      <td>0.000142</td>\n",
       "      <td>0.000283</td>\n",
       "      <td>0.000078</td>\n",
       "      <td>0.000175</td>\n",
       "      <td>0.000015</td>\n",
       "    </tr>\n",
       "    <tr>\n",
       "      <th>2</th>\n",
       "      <td>0.000087</td>\n",
       "      <td>0.000078</td>\n",
       "      <td>0.000248</td>\n",
       "      <td>0.000074</td>\n",
       "      <td>-0.000015</td>\n",
       "    </tr>\n",
       "    <tr>\n",
       "      <th>3</th>\n",
       "      <td>0.000175</td>\n",
       "      <td>0.000175</td>\n",
       "      <td>0.000074</td>\n",
       "      <td>0.000603</td>\n",
       "      <td>0.000040</td>\n",
       "    </tr>\n",
       "    <tr>\n",
       "      <th>4</th>\n",
       "      <td>0.000050</td>\n",
       "      <td>0.000015</td>\n",
       "      <td>-0.000015</td>\n",
       "      <td>0.000040</td>\n",
       "      <td>0.000808</td>\n",
       "    </tr>\n",
       "  </tbody>\n",
       "</table>\n",
       "</div>"
      ],
      "text/plain": [
       "          0         1         2         3         4\n",
       "0  0.000266  0.000142  0.000087  0.000175  0.000050\n",
       "1  0.000142  0.000283  0.000078  0.000175  0.000015\n",
       "2  0.000087  0.000078  0.000248  0.000074 -0.000015\n",
       "3  0.000175  0.000175  0.000074  0.000603  0.000040\n",
       "4  0.000050  0.000015 -0.000015  0.000040  0.000808"
      ]
     },
     "execution_count": 11,
     "metadata": {},
     "output_type": "execute_result"
    }
   ],
   "source": [
    "# Matriz filtrada=Eigenvectores×Matriz Diagonal de Eigenvalores Filtrados×Eigenvectores \n",
    "\n",
    "filtered_cov_matrix = eigenvectors @ np.diag(filtered_eigenvalues) @ eigenvectors.T\n",
    "pd.DataFrame(filtered_cov_matrix)"
   ]
  },
  {
   "cell_type": "markdown",
   "id": "49d31b52",
   "metadata": {},
   "source": [
    "### Asset Allocation"
   ]
  },
  {
   "cell_type": "code",
   "execution_count": 12,
   "id": "afe1f833",
   "metadata": {},
   "outputs": [
    {
     "data": {
      "text/html": [
       "<div>\n",
       "<style scoped>\n",
       "    .dataframe tbody tr th:only-of-type {\n",
       "        vertical-align: middle;\n",
       "    }\n",
       "\n",
       "    .dataframe tbody tr th {\n",
       "        vertical-align: top;\n",
       "    }\n",
       "\n",
       "    .dataframe thead th {\n",
       "        text-align: right;\n",
       "    }\n",
       "</style>\n",
       "<table border=\"1\" class=\"dataframe\">\n",
       "  <thead>\n",
       "    <tr style=\"text-align: right;\">\n",
       "      <th></th>\n",
       "      <th>AAPL</th>\n",
       "      <th>GOOG</th>\n",
       "      <th>IBM</th>\n",
       "      <th>NVDA</th>\n",
       "      <th>TSLA</th>\n",
       "      <th>Optimized Value</th>\n",
       "    </tr>\n",
       "  </thead>\n",
       "  <tbody>\n",
       "    <tr>\n",
       "      <th>Max Sharpe</th>\n",
       "      <td>0.212822</td>\n",
       "      <td>0.010000</td>\n",
       "      <td>0.010000</td>\n",
       "      <td>0.507455</td>\n",
       "      <td>0.259723</td>\n",
       "      <td>1.269909</td>\n",
       "    </tr>\n",
       "    <tr>\n",
       "      <th>Max (Smart) Sharpe</th>\n",
       "      <td>0.010000</td>\n",
       "      <td>0.010000</td>\n",
       "      <td>0.010000</td>\n",
       "      <td>0.569683</td>\n",
       "      <td>0.400317</td>\n",
       "      <td>1.200539</td>\n",
       "    </tr>\n",
       "    <tr>\n",
       "      <th>Max Sharpe Famma French</th>\n",
       "      <td>0.292493</td>\n",
       "      <td>0.010000</td>\n",
       "      <td>0.010000</td>\n",
       "      <td>0.010000</td>\n",
       "      <td>0.677507</td>\n",
       "      <td>1.510110</td>\n",
       "    </tr>\n",
       "    <tr>\n",
       "      <th>Max Omega</th>\n",
       "      <td>0.367593</td>\n",
       "      <td>0.018849</td>\n",
       "      <td>0.313470</td>\n",
       "      <td>0.213550</td>\n",
       "      <td>0.086538</td>\n",
       "      <td>1.348117</td>\n",
       "    </tr>\n",
       "    <tr>\n",
       "      <th>Max (Smart) Omega</th>\n",
       "      <td>0.010000</td>\n",
       "      <td>0.010000</td>\n",
       "      <td>0.201524</td>\n",
       "      <td>0.125332</td>\n",
       "      <td>0.653144</td>\n",
       "      <td>1.205929</td>\n",
       "    </tr>\n",
       "    <tr>\n",
       "      <th>Min VaR (Empirical)</th>\n",
       "      <td>0.010000</td>\n",
       "      <td>0.010000</td>\n",
       "      <td>0.010000</td>\n",
       "      <td>0.389210</td>\n",
       "      <td>0.580790</td>\n",
       "      <td>-0.049680</td>\n",
       "    </tr>\n",
       "    <tr>\n",
       "      <th>Min VaR (Parametric)</th>\n",
       "      <td>0.156482</td>\n",
       "      <td>0.217159</td>\n",
       "      <td>0.606359</td>\n",
       "      <td>0.010000</td>\n",
       "      <td>0.010000</td>\n",
       "      <td>-0.024424</td>\n",
       "    </tr>\n",
       "    <tr>\n",
       "      <th>Semivariance</th>\n",
       "      <td>0.200000</td>\n",
       "      <td>0.200000</td>\n",
       "      <td>0.200000</td>\n",
       "      <td>0.200000</td>\n",
       "      <td>0.200000</td>\n",
       "      <td>0.000401</td>\n",
       "    </tr>\n",
       "    <tr>\n",
       "      <th>Safety-First</th>\n",
       "      <td>0.221457</td>\n",
       "      <td>0.010000</td>\n",
       "      <td>0.010000</td>\n",
       "      <td>0.501680</td>\n",
       "      <td>0.256863</td>\n",
       "      <td>0.079996</td>\n",
       "    </tr>\n",
       "    <tr>\n",
       "      <th>Max Sortino</th>\n",
       "      <td>0.010000</td>\n",
       "      <td>0.010000</td>\n",
       "      <td>0.010000</td>\n",
       "      <td>0.747532</td>\n",
       "      <td>0.222468</td>\n",
       "      <td>0.115912</td>\n",
       "    </tr>\n",
       "    <tr>\n",
       "      <th>Risk Parity</th>\n",
       "      <td>0.200000</td>\n",
       "      <td>0.200000</td>\n",
       "      <td>0.200000</td>\n",
       "      <td>0.200000</td>\n",
       "      <td>0.200000</td>\n",
       "      <td>0.000014</td>\n",
       "    </tr>\n",
       "    <tr>\n",
       "      <th>Black-Litterman</th>\n",
       "      <td>0.250931</td>\n",
       "      <td>0.261034</td>\n",
       "      <td>0.296732</td>\n",
       "      <td>0.181303</td>\n",
       "      <td>0.010000</td>\n",
       "      <td>0.000701</td>\n",
       "    </tr>\n",
       "    <tr>\n",
       "      <th>HRP</th>\n",
       "      <td>0.153590</td>\n",
       "      <td>0.157631</td>\n",
       "      <td>0.506144</td>\n",
       "      <td>0.099614</td>\n",
       "      <td>0.083021</td>\n",
       "      <td>NaN</td>\n",
       "    </tr>\n",
       "  </tbody>\n",
       "</table>\n",
       "</div>"
      ],
      "text/plain": [
       "                             AAPL      GOOG       IBM      NVDA      TSLA  \\\n",
       "Max Sharpe               0.212822  0.010000  0.010000  0.507455  0.259723   \n",
       "Max (Smart) Sharpe       0.010000  0.010000  0.010000  0.569683  0.400317   \n",
       "Max Sharpe Famma French  0.292493  0.010000  0.010000  0.010000  0.677507   \n",
       "Max Omega                0.367593  0.018849  0.313470  0.213550  0.086538   \n",
       "Max (Smart) Omega        0.010000  0.010000  0.201524  0.125332  0.653144   \n",
       "Min VaR (Empirical)      0.010000  0.010000  0.010000  0.389210  0.580790   \n",
       "Min VaR (Parametric)     0.156482  0.217159  0.606359  0.010000  0.010000   \n",
       "Semivariance             0.200000  0.200000  0.200000  0.200000  0.200000   \n",
       "Safety-First             0.221457  0.010000  0.010000  0.501680  0.256863   \n",
       "Max Sortino              0.010000  0.010000  0.010000  0.747532  0.222468   \n",
       "Risk Parity              0.200000  0.200000  0.200000  0.200000  0.200000   \n",
       "Black-Litterman          0.250931  0.261034  0.296732  0.181303  0.010000   \n",
       "HRP                      0.153590  0.157631  0.506144  0.099614  0.083021   \n",
       "\n",
       "                         Optimized Value  \n",
       "Max Sharpe                      1.269909  \n",
       "Max (Smart) Sharpe              1.200539  \n",
       "Max Sharpe Famma French         1.510110  \n",
       "Max Omega                       1.348117  \n",
       "Max (Smart) Omega               1.205929  \n",
       "Min VaR (Empirical)            -0.049680  \n",
       "Min VaR (Parametric)           -0.024424  \n",
       "Semivariance                    0.000401  \n",
       "Safety-First                    0.079996  \n",
       "Max Sortino                     0.115912  \n",
       "Risk Parity                     0.000014  \n",
       "Black-Litterman                 0.000701  \n",
       "HRP                                  NaN  "
      ]
     },
     "execution_count": 12,
     "metadata": {},
     "output_type": "execute_result"
    }
   ],
   "source": [
    "optimizations = Asset_allocation.Optimize_Portfolio(method = \"SLSQP\")\n",
    "optimizations"
   ]
  },
  {
   "cell_type": "markdown",
   "id": "7dfe04f7",
   "metadata": {},
   "source": [
    "Usando el mismo timeframe y activos calculamos las metricas con los pesos datos por la optimizacion y verificamos el valor del porceso manual y la class AssetAllocation"
   ]
  },
  {
   "cell_type": "markdown",
   "id": "440e0998",
   "metadata": {},
   "source": [
    "### Sharpe "
   ]
  },
  {
   "cell_type": "code",
   "execution_count": 13,
   "id": "9d83817d",
   "metadata": {},
   "outputs": [
    {
     "data": {
      "text/html": [
       "<div>\n",
       "<style scoped>\n",
       "    .dataframe tbody tr th:only-of-type {\n",
       "        vertical-align: middle;\n",
       "    }\n",
       "\n",
       "    .dataframe tbody tr th {\n",
       "        vertical-align: top;\n",
       "    }\n",
       "\n",
       "    .dataframe thead th {\n",
       "        text-align: right;\n",
       "    }\n",
       "</style>\n",
       "<table border=\"1\" class=\"dataframe\">\n",
       "  <thead>\n",
       "    <tr style=\"text-align: right;\">\n",
       "      <th></th>\n",
       "      <th>AAPL</th>\n",
       "      <th>GOOG</th>\n",
       "      <th>IBM</th>\n",
       "      <th>NVDA</th>\n",
       "      <th>TSLA</th>\n",
       "    </tr>\n",
       "    <tr>\n",
       "      <th>Date</th>\n",
       "      <th></th>\n",
       "      <th></th>\n",
       "      <th></th>\n",
       "      <th></th>\n",
       "      <th></th>\n",
       "    </tr>\n",
       "  </thead>\n",
       "  <tbody>\n",
       "    <tr>\n",
       "      <th>2019-01-03</th>\n",
       "      <td>-0.099607</td>\n",
       "      <td>-0.028484</td>\n",
       "      <td>-0.019964</td>\n",
       "      <td>-0.060417</td>\n",
       "      <td>-0.031472</td>\n",
       "    </tr>\n",
       "    <tr>\n",
       "      <th>2019-01-04</th>\n",
       "      <td>0.042689</td>\n",
       "      <td>0.053786</td>\n",
       "      <td>0.039058</td>\n",
       "      <td>0.064068</td>\n",
       "      <td>0.057697</td>\n",
       "    </tr>\n",
       "    <tr>\n",
       "      <th>2019-01-07</th>\n",
       "      <td>-0.002226</td>\n",
       "      <td>-0.002167</td>\n",
       "      <td>0.007075</td>\n",
       "      <td>0.052941</td>\n",
       "      <td>0.054361</td>\n",
       "    </tr>\n",
       "    <tr>\n",
       "      <th>2019-01-08</th>\n",
       "      <td>0.019063</td>\n",
       "      <td>0.007385</td>\n",
       "      <td>0.014219</td>\n",
       "      <td>-0.024896</td>\n",
       "      <td>0.001164</td>\n",
       "    </tr>\n",
       "    <tr>\n",
       "      <th>2019-01-09</th>\n",
       "      <td>0.016982</td>\n",
       "      <td>-0.001505</td>\n",
       "      <td>0.007177</td>\n",
       "      <td>0.019667</td>\n",
       "      <td>0.009483</td>\n",
       "    </tr>\n",
       "  </tbody>\n",
       "</table>\n",
       "</div>"
      ],
      "text/plain": [
       "                AAPL      GOOG       IBM      NVDA      TSLA\n",
       "Date                                                        \n",
       "2019-01-03 -0.099607 -0.028484 -0.019964 -0.060417 -0.031472\n",
       "2019-01-04  0.042689  0.053786  0.039058  0.064068  0.057697\n",
       "2019-01-07 -0.002226 -0.002167  0.007075  0.052941  0.054361\n",
       "2019-01-08  0.019063  0.007385  0.014219 -0.024896  0.001164\n",
       "2019-01-09  0.016982 -0.001505  0.007177  0.019667  0.009483"
      ]
     },
     "execution_count": 13,
     "metadata": {},
     "output_type": "execute_result"
    }
   ],
   "source": [
    "Weights_Sharpe, Value_Sharpe = optimizations.loc[\"Max Sharpe\"][:-1], optimizations.loc[\"Max Sharpe\"][-1]\n",
    "weights = Weights_Sharpe\n",
    "\n",
    "#retornos de activos\n",
    "returns = asset_prices.pct_change().dropna()\n",
    "returns.head()"
   ]
  },
  {
   "cell_type": "code",
   "execution_count": 14,
   "id": "cea8626d",
   "metadata": {},
   "outputs": [
    {
     "data": {
      "text/plain": [
       "Date\n",
       "2019-01-03   -0.060516\n",
       "2019-01-04    0.057510\n",
       "2019-01-07    0.040559\n",
       "2019-01-08   -0.008058\n",
       "2019-01-09    0.016114\n",
       "dtype: float64"
      ]
     },
     "execution_count": 14,
     "metadata": {},
     "output_type": "execute_result"
    }
   ],
   "source": [
    "#retornos del portafolio\n",
    "portfolio_returns = returns.dot(weights)\n",
    "portfolio_returns.head()"
   ]
  },
  {
   "cell_type": "code",
   "execution_count": 15,
   "id": "439d83a1",
   "metadata": {},
   "outputs": [
    {
     "data": {
      "text/plain": [
       "Date\n",
       "2019-01-03   -0.060774\n",
       "2019-01-04    0.057253\n",
       "2019-01-07    0.040302\n",
       "2019-01-08   -0.008316\n",
       "2019-01-09    0.015856\n",
       "                ...   \n",
       "2023-12-22   -0.004947\n",
       "2023-12-26    0.008062\n",
       "2023-12-27    0.006081\n",
       "2023-12-28   -0.006905\n",
       "2023-12-29   -0.006271\n",
       "Length: 1257, dtype: float64"
      ]
     },
     "execution_count": 15,
     "metadata": {},
     "output_type": "execute_result"
    }
   ],
   "source": [
    "#retornos menos la tasa libre de riesgo diaria\n",
    "excess_returns_daily = portfolio_returns - (rf / 252)\n",
    "excess_returns_daily\n"
   ]
  },
  {
   "cell_type": "code",
   "execution_count": 16,
   "id": "925c6061",
   "metadata": {},
   "outputs": [
    {
     "data": {
      "text/plain": [
       "0.5444138197692394"
      ]
     },
     "execution_count": 16,
     "metadata": {},
     "output_type": "execute_result"
    }
   ],
   "source": [
    "# Anualizamos el promedio  de la resta para obtener rendimiento promedio anual del portafolio\n",
    "excess_returns_annualized = excess_returns_daily.mean() * 252\n",
    "excess_returns_annualized"
   ]
  },
  {
   "cell_type": "code",
   "execution_count": 17,
   "id": "be165234",
   "metadata": {},
   "outputs": [
    {
     "data": {
      "text/plain": [
       "0.42870304592858754"
      ]
     },
     "execution_count": 17,
     "metadata": {},
     "output_type": "execute_result"
    }
   ],
   "source": [
    "# Calculamos volatilidad anual del portafolio\n",
    "portfolio_volatility = portfolio_returns.std() * np.sqrt(252)\n",
    "portfolio_volatility "
   ]
  },
  {
   "cell_type": "code",
   "execution_count": 18,
   "id": "6eb9056f",
   "metadata": {},
   "outputs": [
    {
     "data": {
      "text/plain": [
       "1.2699089146661364"
      ]
     },
     "execution_count": 18,
     "metadata": {},
     "output_type": "execute_result"
    }
   ],
   "source": [
    "# Calculamos Sharpe\n",
    "sharpe_ratio = excess_returns_annualized / portfolio_volatility\n",
    "sharpe_ratio"
   ]
  },
  {
   "cell_type": "code",
   "execution_count": 19,
   "id": "7192063d",
   "metadata": {},
   "outputs": [
    {
     "data": {
      "text/plain": [
       "-0.0"
      ]
     },
     "execution_count": 19,
     "metadata": {},
     "output_type": "execute_result"
    }
   ],
   "source": [
    "# Comparamos\n",
    "round(sharpe_ratio - Value_Sharpe, 10)"
   ]
  },
  {
   "cell_type": "markdown",
   "id": "1362e99c",
   "metadata": {},
   "source": [
    "**Diferencia menor a $ 1e^{-10}$**"
   ]
  },
  {
   "cell_type": "markdown",
   "id": "1800e3ca",
   "metadata": {},
   "source": [
    "### Omega"
   ]
  },
  {
   "cell_type": "code",
   "execution_count": 20,
   "id": "6dcd70fb",
   "metadata": {},
   "outputs": [
    {
     "data": {
      "text/plain": [
       "AAPL    0.367593\n",
       "GOOG    0.018849\n",
       "IBM     0.313470\n",
       "NVDA    0.213550\n",
       "TSLA    0.086538\n",
       "Name: Max Omega, dtype: float64"
      ]
     },
     "execution_count": 20,
     "metadata": {},
     "output_type": "execute_result"
    }
   ],
   "source": [
    "Weights_Omega, Value_Omega = optimizations.loc[\"Max Omega\"][:-1], optimizations.loc[\"Max Omega\"][-1]\n",
    "weights = Weights_Omega\n",
    "\n",
    "weights"
   ]
  },
  {
   "cell_type": "code",
   "execution_count": 21,
   "id": "2afa506e",
   "metadata": {},
   "outputs": [
    {
     "data": {
      "text/html": [
       "<div>\n",
       "<style scoped>\n",
       "    .dataframe tbody tr th:only-of-type {\n",
       "        vertical-align: middle;\n",
       "    }\n",
       "\n",
       "    .dataframe tbody tr th {\n",
       "        vertical-align: top;\n",
       "    }\n",
       "\n",
       "    .dataframe thead th {\n",
       "        text-align: right;\n",
       "    }\n",
       "</style>\n",
       "<table border=\"1\" class=\"dataframe\">\n",
       "  <thead>\n",
       "    <tr style=\"text-align: right;\">\n",
       "      <th></th>\n",
       "      <th>0</th>\n",
       "    </tr>\n",
       "    <tr>\n",
       "      <th>Date</th>\n",
       "      <th></th>\n",
       "    </tr>\n",
       "  </thead>\n",
       "  <tbody>\n",
       "    <tr>\n",
       "      <th>2019-01-03</th>\n",
       "      <td>-0.059035</td>\n",
       "    </tr>\n",
       "    <tr>\n",
       "      <th>2019-01-04</th>\n",
       "      <td>0.047624</td>\n",
       "    </tr>\n",
       "    <tr>\n",
       "      <th>2019-01-07</th>\n",
       "      <td>0.017369</td>\n",
       "    </tr>\n",
       "    <tr>\n",
       "      <th>2019-01-08</th>\n",
       "      <td>0.006388</td>\n",
       "    </tr>\n",
       "    <tr>\n",
       "      <th>2019-01-09</th>\n",
       "      <td>0.013484</td>\n",
       "    </tr>\n",
       "    <tr>\n",
       "      <th>...</th>\n",
       "      <td>...</td>\n",
       "    </tr>\n",
       "    <tr>\n",
       "      <th>2023-12-22</th>\n",
       "      <td>-0.000629</td>\n",
       "    </tr>\n",
       "    <tr>\n",
       "      <th>2023-12-26</th>\n",
       "      <td>0.004396</td>\n",
       "    </tr>\n",
       "    <tr>\n",
       "      <th>2023-12-27</th>\n",
       "      <td>0.002715</td>\n",
       "    </tr>\n",
       "    <tr>\n",
       "      <th>2023-12-28</th>\n",
       "      <td>-0.000927</td>\n",
       "    </tr>\n",
       "    <tr>\n",
       "      <th>2023-12-29</th>\n",
       "      <td>-0.004030</td>\n",
       "    </tr>\n",
       "  </tbody>\n",
       "</table>\n",
       "<p>1257 rows × 1 columns</p>\n",
       "</div>"
      ],
      "text/plain": [
       "                   0\n",
       "Date                \n",
       "2019-01-03 -0.059035\n",
       "2019-01-04  0.047624\n",
       "2019-01-07  0.017369\n",
       "2019-01-08  0.006388\n",
       "2019-01-09  0.013484\n",
       "...              ...\n",
       "2023-12-22 -0.000629\n",
       "2023-12-26  0.004396\n",
       "2023-12-27  0.002715\n",
       "2023-12-28 -0.000927\n",
       "2023-12-29 -0.004030\n",
       "\n",
       "[1257 rows x 1 columns]"
      ]
     },
     "execution_count": 21,
     "metadata": {},
     "output_type": "execute_result"
    }
   ],
   "source": [
    "# Retornos de activos\n",
    "returns = asset_prices.pct_change().dropna()\n",
    "portfolio_returns = pd.DataFrame(returns.dot(weights)) \n",
    "portfolio_returns"
   ]
  },
  {
   "cell_type": "code",
   "execution_count": 22,
   "id": "17b7d652",
   "metadata": {
    "scrolled": false
   },
   "outputs": [
    {
     "data": {
      "text/html": [
       "<div>\n",
       "<style scoped>\n",
       "    .dataframe tbody tr th:only-of-type {\n",
       "        vertical-align: middle;\n",
       "    }\n",
       "\n",
       "    .dataframe tbody tr th {\n",
       "        vertical-align: top;\n",
       "    }\n",
       "\n",
       "    .dataframe thead th {\n",
       "        text-align: right;\n",
       "    }\n",
       "</style>\n",
       "<table border=\"1\" class=\"dataframe\">\n",
       "  <thead>\n",
       "    <tr style=\"text-align: right;\">\n",
       "      <th></th>\n",
       "      <th>^GSPC</th>\n",
       "    </tr>\n",
       "    <tr>\n",
       "      <th>Date</th>\n",
       "      <th></th>\n",
       "    </tr>\n",
       "  </thead>\n",
       "  <tbody>\n",
       "    <tr>\n",
       "      <th>2019-01-03</th>\n",
       "      <td>-0.024757</td>\n",
       "    </tr>\n",
       "    <tr>\n",
       "      <th>2019-01-04</th>\n",
       "      <td>0.034336</td>\n",
       "    </tr>\n",
       "    <tr>\n",
       "      <th>2019-01-07</th>\n",
       "      <td>0.007010</td>\n",
       "    </tr>\n",
       "    <tr>\n",
       "      <th>2019-01-08</th>\n",
       "      <td>0.009695</td>\n",
       "    </tr>\n",
       "    <tr>\n",
       "      <th>2019-01-09</th>\n",
       "      <td>0.004098</td>\n",
       "    </tr>\n",
       "    <tr>\n",
       "      <th>...</th>\n",
       "      <td>...</td>\n",
       "    </tr>\n",
       "    <tr>\n",
       "      <th>2023-12-22</th>\n",
       "      <td>0.001660</td>\n",
       "    </tr>\n",
       "    <tr>\n",
       "      <th>2023-12-26</th>\n",
       "      <td>0.004232</td>\n",
       "    </tr>\n",
       "    <tr>\n",
       "      <th>2023-12-27</th>\n",
       "      <td>0.001430</td>\n",
       "    </tr>\n",
       "    <tr>\n",
       "      <th>2023-12-28</th>\n",
       "      <td>0.000370</td>\n",
       "    </tr>\n",
       "    <tr>\n",
       "      <th>2023-12-29</th>\n",
       "      <td>-0.002826</td>\n",
       "    </tr>\n",
       "  </tbody>\n",
       "</table>\n",
       "<p>1257 rows × 1 columns</p>\n",
       "</div>"
      ],
      "text/plain": [
       "               ^GSPC\n",
       "Date                \n",
       "2019-01-03 -0.024757\n",
       "2019-01-04  0.034336\n",
       "2019-01-07  0.007010\n",
       "2019-01-08  0.009695\n",
       "2019-01-09  0.004098\n",
       "...              ...\n",
       "2023-12-22  0.001660\n",
       "2023-12-26  0.004232\n",
       "2023-12-27  0.001430\n",
       "2023-12-28  0.000370\n",
       "2023-12-29 -0.002826\n",
       "\n",
       "[1257 rows x 1 columns]"
      ]
     },
     "execution_count": 22,
     "metadata": {},
     "output_type": "execute_result"
    }
   ],
   "source": [
    "# Calcular los retornos diarios del benchmark\n",
    "benchmark_returns = benchmark_prices.pct_change().dropna()  \n",
    "benchmark_returns "
   ]
  },
  {
   "cell_type": "code",
   "execution_count": 23,
   "id": "b809da63",
   "metadata": {},
   "outputs": [
    {
     "data": {
      "text/plain": [
       "Date\n",
       "2019-01-03   -0.034279\n",
       "2019-01-04    0.013289\n",
       "2019-01-07    0.010358\n",
       "2019-01-08   -0.003307\n",
       "2019-01-09    0.009386\n",
       "                ...   \n",
       "2023-12-22   -0.002289\n",
       "2023-12-26    0.000164\n",
       "2023-12-27    0.001285\n",
       "2023-12-28   -0.001297\n",
       "2023-12-29   -0.001203\n",
       "Length: 1257, dtype: float64"
      ]
     },
     "execution_count": 23,
     "metadata": {},
     "output_type": "execute_result"
    }
   ],
   "source": [
    "# Obtener diferencia del portafolio respecto al benchmark\n",
    "excess_returns = portfolio_returns[0] -  benchmark_returns[benchmark_returns.columns[0]] \n",
    "excess_returns"
   ]
  },
  {
   "cell_type": "code",
   "execution_count": 24,
   "id": "93b76437",
   "metadata": {},
   "outputs": [
    {
     "data": {
      "text/plain": [
       "(4.787322032797221, 3.551117228381621)"
      ]
     },
     "execution_count": 24,
     "metadata": {},
     "output_type": "execute_result"
    }
   ],
   "source": [
    "positive_excess = excess_returns[excess_returns > 0].sum()\n",
    "negative_excess = -excess_returns[excess_returns < 0].sum()\n",
    "positive_excess, negative_excess"
   ]
  },
  {
   "cell_type": "code",
   "execution_count": 25,
   "id": "e4f79d02",
   "metadata": {},
   "outputs": [
    {
     "data": {
      "text/plain": [
       "1.3481171487484194"
      ]
     },
     "execution_count": 25,
     "metadata": {},
     "output_type": "execute_result"
    }
   ],
   "source": [
    "omega_ratio = positive_excess / negative_excess\n",
    "omega_ratio"
   ]
  },
  {
   "cell_type": "code",
   "execution_count": 26,
   "id": "6eb50382",
   "metadata": {},
   "outputs": [
    {
     "data": {
      "text/plain": [
       "0.0"
      ]
     },
     "execution_count": 26,
     "metadata": {},
     "output_type": "execute_result"
    }
   ],
   "source": [
    "# Comparamos\n",
    "round(omega_ratio - Value_Omega, 10)"
   ]
  },
  {
   "cell_type": "markdown",
   "id": "23b83fdd",
   "metadata": {},
   "source": [
    "**Diferencia menor a $ 1e^{-10}$**"
   ]
  },
  {
   "cell_type": "markdown",
   "id": "8b1b4801",
   "metadata": {},
   "source": [
    "### Safety First Ratio"
   ]
  },
  {
   "cell_type": "code",
   "execution_count": 27,
   "id": "23ceff8f",
   "metadata": {},
   "outputs": [
    {
     "data": {
      "text/plain": [
       "AAPL    0.221457\n",
       "GOOG    0.010000\n",
       "IBM     0.010000\n",
       "NVDA    0.501680\n",
       "TSLA    0.256863\n",
       "Name: Safety-First, dtype: float64"
      ]
     },
     "execution_count": 27,
     "metadata": {},
     "output_type": "execute_result"
    }
   ],
   "source": [
    "Weights_SFRatio, Value_SFRatio = optimizations.loc[\"Safety-First\"][:-1], optimizations.loc[\"Safety-First\"][-1]\n",
    "weights = Weights_SFRatio\n",
    "\n",
    "weights"
   ]
  },
  {
   "cell_type": "code",
   "execution_count": 28,
   "id": "92c1e747",
   "metadata": {},
   "outputs": [
    {
     "data": {
      "text/html": [
       "<div>\n",
       "<style scoped>\n",
       "    .dataframe tbody tr th:only-of-type {\n",
       "        vertical-align: middle;\n",
       "    }\n",
       "\n",
       "    .dataframe tbody tr th {\n",
       "        vertical-align: top;\n",
       "    }\n",
       "\n",
       "    .dataframe thead th {\n",
       "        text-align: right;\n",
       "    }\n",
       "</style>\n",
       "<table border=\"1\" class=\"dataframe\">\n",
       "  <thead>\n",
       "    <tr style=\"text-align: right;\">\n",
       "      <th></th>\n",
       "      <th>0</th>\n",
       "    </tr>\n",
       "    <tr>\n",
       "      <th>Date</th>\n",
       "      <th></th>\n",
       "    </tr>\n",
       "  </thead>\n",
       "  <tbody>\n",
       "    <tr>\n",
       "      <th>2019-01-03</th>\n",
       "      <td>-0.060937</td>\n",
       "    </tr>\n",
       "    <tr>\n",
       "      <th>2019-01-04</th>\n",
       "      <td>0.057344</td>\n",
       "    </tr>\n",
       "    <tr>\n",
       "      <th>2019-01-07</th>\n",
       "      <td>0.040079</td>\n",
       "    </tr>\n",
       "    <tr>\n",
       "      <th>2019-01-08</th>\n",
       "      <td>-0.007753</td>\n",
       "    </tr>\n",
       "    <tr>\n",
       "      <th>2019-01-09</th>\n",
       "      <td>0.016120</td>\n",
       "    </tr>\n",
       "    <tr>\n",
       "      <th>...</th>\n",
       "      <td>...</td>\n",
       "    </tr>\n",
       "    <tr>\n",
       "      <th>2023-12-22</th>\n",
       "      <td>-0.004696</td>\n",
       "    </tr>\n",
       "    <tr>\n",
       "      <th>2023-12-26</th>\n",
       "      <td>0.008197</td>\n",
       "    </tr>\n",
       "    <tr>\n",
       "      <th>2023-12-27</th>\n",
       "      <td>0.006273</td>\n",
       "    </tr>\n",
       "    <tr>\n",
       "      <th>2023-12-28</th>\n",
       "      <td>-0.006550</td>\n",
       "    </tr>\n",
       "    <tr>\n",
       "      <th>2023-12-29</th>\n",
       "      <td>-0.006007</td>\n",
       "    </tr>\n",
       "  </tbody>\n",
       "</table>\n",
       "<p>1257 rows × 1 columns</p>\n",
       "</div>"
      ],
      "text/plain": [
       "                   0\n",
       "Date                \n",
       "2019-01-03 -0.060937\n",
       "2019-01-04  0.057344\n",
       "2019-01-07  0.040079\n",
       "2019-01-08 -0.007753\n",
       "2019-01-09  0.016120\n",
       "...              ...\n",
       "2023-12-22 -0.004696\n",
       "2023-12-26  0.008197\n",
       "2023-12-27  0.006273\n",
       "2023-12-28 -0.006550\n",
       "2023-12-29 -0.006007\n",
       "\n",
       "[1257 rows x 1 columns]"
      ]
     },
     "execution_count": 28,
     "metadata": {},
     "output_type": "execute_result"
    }
   ],
   "source": [
    "# Retorno del portafolio\n",
    "returns = asset_prices.pct_change().dropna()\n",
    "portfolio_returns = pd.DataFrame(returns.dot(weights)) \n",
    "portfolio_returns"
   ]
  },
  {
   "cell_type": "code",
   "execution_count": 29,
   "id": "9baf9c5e",
   "metadata": {},
   "outputs": [
    {
     "data": {
      "text/plain": [
       "0.0024078294015829516"
      ]
     },
     "execution_count": 29,
     "metadata": {},
     "output_type": "execute_result"
    }
   ],
   "source": [
    "# Retorno del portafolio\n",
    "portfolio_return = portfolio_returns.mean().item()\n",
    "portfolio_return"
   ]
  },
  {
   "cell_type": "code",
   "execution_count": 30,
   "id": "379a7234",
   "metadata": {},
   "outputs": [
    {
     "data": {
      "text/plain": [
       "0.00025793650793650796"
      ]
     },
     "execution_count": 30,
     "metadata": {},
     "output_type": "execute_result"
    }
   ],
   "source": [
    "# Retorno Mínimo Aceptable (MAR)\n",
    "MAF = rf / 252\n",
    "MAF"
   ]
  },
  {
   "cell_type": "code",
   "execution_count": 31,
   "id": "cb2e4314",
   "metadata": {},
   "outputs": [
    {
     "data": {
      "text/plain": [
       "0.026875162458315446"
      ]
     },
     "execution_count": 31,
     "metadata": {},
     "output_type": "execute_result"
    }
   ],
   "source": [
    "# Volatilidad del portafolio\n",
    "cov_matrix = returns.cov()\n",
    "portfolio_vol = np.sqrt(np.dot(weights.T, np.dot(cov_matrix, weights)))\n",
    "portfolio_vol"
   ]
  },
  {
   "cell_type": "code",
   "execution_count": 32,
   "id": "e0f18010",
   "metadata": {},
   "outputs": [
    {
     "name": "stdout",
     "output_type": "stream",
     "text": [
      "Safety First Ratio: 0.07999553107747802\n"
     ]
    }
   ],
   "source": [
    "# Calculamos el SFratio\n",
    "SFratio = (portfolio_return - MAF) / portfolio_vol\n",
    "\n",
    "print(f\"Safety First Ratio: {SFratio}\")"
   ]
  },
  {
   "cell_type": "code",
   "execution_count": 33,
   "id": "a987784b",
   "metadata": {},
   "outputs": [
    {
     "data": {
      "text/plain": [
       "0.0"
      ]
     },
     "execution_count": 33,
     "metadata": {},
     "output_type": "execute_result"
    }
   ],
   "source": [
    "# Comparamos\n",
    "round(SFratio - Value_SFRatio, 10)"
   ]
  },
  {
   "cell_type": "markdown",
   "id": "34c8ec9f",
   "metadata": {},
   "source": [
    "**Diferencia menor a $ 1e^{-10}$**"
   ]
  },
  {
   "cell_type": "markdown",
   "id": "e5508035",
   "metadata": {},
   "source": [
    "### HRP"
   ]
  },
  {
   "cell_type": "code",
   "execution_count": 34,
   "id": "bd9324e6",
   "metadata": {},
   "outputs": [
    {
     "data": {
      "text/plain": [
       "AAPL    0.153590\n",
       "GOOG    0.157631\n",
       "IBM     0.506144\n",
       "NVDA    0.099614\n",
       "TSLA    0.083021\n",
       "Name: HRP, dtype: float64"
      ]
     },
     "execution_count": 34,
     "metadata": {},
     "output_type": "execute_result"
    }
   ],
   "source": [
    "Weights_HRP = optimizations.loc[\"HRP\"][:-1]\n",
    "weights = Weights_HRP\n",
    "weights"
   ]
  },
  {
   "cell_type": "code",
   "execution_count": 35,
   "id": "541738ad",
   "metadata": {},
   "outputs": [],
   "source": [
    "# Obtener pesos usando PyPortfolioOpt\n",
    "hrp_pypfopt = HRPOpt(returns)\n",
    "weights_pypfopt = hrp_pypfopt.optimize()\n",
    "weights_pypfopt = pd.Series(hrp_pypfopt.clean_weights())"
   ]
  },
  {
   "cell_type": "code",
   "execution_count": 36,
   "id": "a87d91ae",
   "metadata": {},
   "outputs": [],
   "source": [
    "# DataFrame para comparar\n",
    "comparison_df = pd.DataFrame({\n",
    "    'Weights_HRP_Implementation': weights,\n",
    "    'Weights_HRP_PyPortfolioOpt': weights_pypfopt\n",
    "})\n",
    "comparison_df = comparison_df.fillna(0)"
   ]
  },
  {
   "cell_type": "code",
   "execution_count": 37,
   "id": "a727a42f",
   "metadata": {},
   "outputs": [
    {
     "data": {
      "text/html": [
       "<div>\n",
       "<style scoped>\n",
       "    .dataframe tbody tr th:only-of-type {\n",
       "        vertical-align: middle;\n",
       "    }\n",
       "\n",
       "    .dataframe tbody tr th {\n",
       "        vertical-align: top;\n",
       "    }\n",
       "\n",
       "    .dataframe thead th {\n",
       "        text-align: right;\n",
       "    }\n",
       "</style>\n",
       "<table border=\"1\" class=\"dataframe\">\n",
       "  <thead>\n",
       "    <tr style=\"text-align: right;\">\n",
       "      <th></th>\n",
       "      <th>Weights_HRP_Implementation</th>\n",
       "      <th>Weights_HRP_PyPortfolioOpt</th>\n",
       "      <th>Differences</th>\n",
       "    </tr>\n",
       "  </thead>\n",
       "  <tbody>\n",
       "    <tr>\n",
       "      <th>AAPL</th>\n",
       "      <td>0.153590</td>\n",
       "      <td>0.15359</td>\n",
       "      <td>0.0</td>\n",
       "    </tr>\n",
       "    <tr>\n",
       "      <th>GOOG</th>\n",
       "      <td>0.157631</td>\n",
       "      <td>0.15763</td>\n",
       "      <td>0.0</td>\n",
       "    </tr>\n",
       "    <tr>\n",
       "      <th>IBM</th>\n",
       "      <td>0.506144</td>\n",
       "      <td>0.50614</td>\n",
       "      <td>0.0</td>\n",
       "    </tr>\n",
       "    <tr>\n",
       "      <th>NVDA</th>\n",
       "      <td>0.099614</td>\n",
       "      <td>0.09961</td>\n",
       "      <td>0.0</td>\n",
       "    </tr>\n",
       "    <tr>\n",
       "      <th>TSLA</th>\n",
       "      <td>0.083021</td>\n",
       "      <td>0.08302</td>\n",
       "      <td>0.0</td>\n",
       "    </tr>\n",
       "  </tbody>\n",
       "</table>\n",
       "</div>"
      ],
      "text/plain": [
       "      Weights_HRP_Implementation  Weights_HRP_PyPortfolioOpt  Differences\n",
       "AAPL                    0.153590                     0.15359          0.0\n",
       "GOOG                    0.157631                     0.15763          0.0\n",
       "IBM                     0.506144                     0.50614          0.0\n",
       "NVDA                    0.099614                     0.09961          0.0\n",
       "TSLA                    0.083021                     0.08302          0.0"
      ]
     },
     "execution_count": 37,
     "metadata": {},
     "output_type": "execute_result"
    }
   ],
   "source": [
    "# Calcular las diferencias\n",
    "comparison_df['Differences'] = round(comparison_df['Weights_HRP_Implementation'] - comparison_df['Weights_HRP_PyPortfolioOpt'], 5)\n",
    "comparison_df"
   ]
  },
  {
   "cell_type": "markdown",
   "id": "0ea08a53",
   "metadata": {},
   "source": [
    "**Diferencia menor a $ 1e^{-5}$**"
   ]
  },
  {
   "cell_type": "markdown",
   "id": "c91f9631",
   "metadata": {},
   "source": [
    "### Semivariance"
   ]
  },
  {
   "cell_type": "code",
   "execution_count": 41,
   "id": "36711fca",
   "metadata": {},
   "outputs": [
    {
     "data": {
      "text/plain": [
       "AAPL    0.2\n",
       "GOOG    0.2\n",
       "IBM     0.2\n",
       "NVDA    0.2\n",
       "TSLA    0.2\n",
       "Name: Semivariance, dtype: float64"
      ]
     },
     "execution_count": 41,
     "metadata": {},
     "output_type": "execute_result"
    }
   ],
   "source": [
    "Weights_Semivariance, Value_Semivariance = optimizations.loc[\"Semivariance\"][:-1], optimizations.loc[\"Semivariance\"][-1]\n",
    "weights = Weights_Semivariance\n",
    "\n",
    "weights"
   ]
  },
  {
   "cell_type": "code",
   "execution_count": 42,
   "id": "a9a7f3f1",
   "metadata": {},
   "outputs": [],
   "source": [
    "# Retorno\n",
    "returns = asset_prices.pct_change().dropna()\n",
    "asset_cov_matrix = returns.cov()"
   ]
  },
  {
   "cell_type": "code",
   "execution_count": 45,
   "id": "c412c5f8",
   "metadata": {},
   "outputs": [
    {
     "name": "stdout",
     "output_type": "stream",
     "text": [
      "Semivariance: 0.0004013791660417159\n"
     ]
    }
   ],
   "source": [
    "# Calculamos Semivarianza\n",
    "semivariance = np.dot(weights, np.dot(asset_cov_matrix, weights))\n",
    "print(f\"Semivariance: {semivariance}\")"
   ]
  },
  {
   "cell_type": "code",
   "execution_count": 46,
   "id": "c3d53a7d",
   "metadata": {},
   "outputs": [
    {
     "data": {
      "text/plain": [
       "-0.0"
      ]
     },
     "execution_count": 46,
     "metadata": {},
     "output_type": "execute_result"
    }
   ],
   "source": [
    "# Comparamos\n",
    "round(semivariance - Value_Semivariance, 10)"
   ]
  },
  {
   "cell_type": "markdown",
   "id": "b1384738",
   "metadata": {},
   "source": [
    "**Diferencia menor a $ 1e^{-10}$**"
   ]
  }
 ],
 "metadata": {
  "kernelspec": {
   "display_name": "Python 3 (ipykernel)",
   "language": "python",
   "name": "python3"
  },
  "language_info": {
   "codemirror_mode": {
    "name": "ipython",
    "version": 3
   },
   "file_extension": ".py",
   "mimetype": "text/x-python",
   "name": "python",
   "nbconvert_exporter": "python",
   "pygments_lexer": "ipython3",
   "version": "3.9.13"
  }
 },
 "nbformat": 4,
 "nbformat_minor": 5
}
