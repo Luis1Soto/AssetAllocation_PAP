{
 "cells": [
  {
   "cell_type": "code",
   "execution_count": 1,
   "id": "705e911e",
   "metadata": {},
   "outputs": [],
   "source": [
    "import yfinance as yf\n",
    "import pandas as pd\n",
    "import numpy as np \n",
    "import warnings\n",
    "warnings.filterwarnings('ignore')\n",
    "\n",
    "from AA import DataDownloader, AssetAllocation"
   ]
  },
  {
   "cell_type": "code",
   "execution_count": 2,
   "id": "36bb31f4",
   "metadata": {},
   "outputs": [
    {
     "name": "stdout",
     "output_type": "stream",
     "text": [
      "[*********************100%%**********************]  5 of 5 completed\n",
      "[*********************100%%**********************]  1 of 1 completed\n"
     ]
    }
   ],
   "source": [
    "downloader = DataDownloader()\n",
    "\n",
    "benchmark = '^GSPC'\n",
    "assets = ['AAPL', 'IBM', 'TSLA', 'GOOG', 'NVDA']  \n",
    "start_date = '2019-01-01'\n",
    "end_date = '2023-12-31'\n",
    "rf = .065\n",
    "\n",
    "asset_prices, benchmark_prices = downloader.download_data(start_date= start_date, end_date= end_date,\n",
    "                                                          assets= assets, benchmark=benchmark)"
   ]
  },
  {
   "cell_type": "code",
   "execution_count": 3,
   "id": "7e1bae2b",
   "metadata": {},
   "outputs": [],
   "source": [
    "Asset_allocation = AssetAllocation(asset_prices = asset_prices,benchmark_prices = benchmark_prices, rf=rf)"
   ]
  },
  {
   "cell_type": "code",
   "execution_count": 4,
   "id": "afe1f833",
   "metadata": {},
   "outputs": [
    {
     "data": {
      "text/html": [
       "<div>\n",
       "<style scoped>\n",
       "    .dataframe tbody tr th:only-of-type {\n",
       "        vertical-align: middle;\n",
       "    }\n",
       "\n",
       "    .dataframe tbody tr th {\n",
       "        vertical-align: top;\n",
       "    }\n",
       "\n",
       "    .dataframe thead th {\n",
       "        text-align: right;\n",
       "    }\n",
       "</style>\n",
       "<table border=\"1\" class=\"dataframe\">\n",
       "  <thead>\n",
       "    <tr style=\"text-align: right;\">\n",
       "      <th></th>\n",
       "      <th>AAPL</th>\n",
       "      <th>GOOG</th>\n",
       "      <th>IBM</th>\n",
       "      <th>NVDA</th>\n",
       "      <th>TSLA</th>\n",
       "      <th>Optimized Value</th>\n",
       "    </tr>\n",
       "  </thead>\n",
       "  <tbody>\n",
       "    <tr>\n",
       "      <th>Max Sharpe</th>\n",
       "      <td>0.212822</td>\n",
       "      <td>0.010000</td>\n",
       "      <td>0.010000</td>\n",
       "      <td>0.507455</td>\n",
       "      <td>0.259723</td>\n",
       "      <td>1.269909</td>\n",
       "    </tr>\n",
       "    <tr>\n",
       "      <th>Max (Smart) Sharpe</th>\n",
       "      <td>0.010000</td>\n",
       "      <td>0.010000</td>\n",
       "      <td>0.010000</td>\n",
       "      <td>0.569682</td>\n",
       "      <td>0.400318</td>\n",
       "      <td>1.200539</td>\n",
       "    </tr>\n",
       "    <tr>\n",
       "      <th>Max Omega</th>\n",
       "      <td>0.367592</td>\n",
       "      <td>0.018850</td>\n",
       "      <td>0.313467</td>\n",
       "      <td>0.213552</td>\n",
       "      <td>0.086539</td>\n",
       "      <td>1.348117</td>\n",
       "    </tr>\n",
       "    <tr>\n",
       "      <th>Max (Smart) Omega</th>\n",
       "      <td>0.010000</td>\n",
       "      <td>0.010000</td>\n",
       "      <td>0.201554</td>\n",
       "      <td>0.125307</td>\n",
       "      <td>0.653139</td>\n",
       "      <td>1.205929</td>\n",
       "    </tr>\n",
       "    <tr>\n",
       "      <th>Min VaR (Empirical)</th>\n",
       "      <td>0.010000</td>\n",
       "      <td>0.010000</td>\n",
       "      <td>0.010000</td>\n",
       "      <td>0.389239</td>\n",
       "      <td>0.580761</td>\n",
       "      <td>0.049680</td>\n",
       "    </tr>\n",
       "    <tr>\n",
       "      <th>Min VaR (Parametric)</th>\n",
       "      <td>0.156482</td>\n",
       "      <td>0.217159</td>\n",
       "      <td>0.606359</td>\n",
       "      <td>0.010000</td>\n",
       "      <td>0.010000</td>\n",
       "      <td>0.024424</td>\n",
       "    </tr>\n",
       "    <tr>\n",
       "      <th>Semivariance</th>\n",
       "      <td>0.200000</td>\n",
       "      <td>0.200000</td>\n",
       "      <td>0.200000</td>\n",
       "      <td>0.200000</td>\n",
       "      <td>0.200000</td>\n",
       "      <td>0.000401</td>\n",
       "    </tr>\n",
       "    <tr>\n",
       "      <th>Safety-First</th>\n",
       "      <td>0.221457</td>\n",
       "      <td>0.010000</td>\n",
       "      <td>0.010000</td>\n",
       "      <td>0.501680</td>\n",
       "      <td>0.256863</td>\n",
       "      <td>0.079996</td>\n",
       "    </tr>\n",
       "    <tr>\n",
       "      <th>Max Sortino</th>\n",
       "      <td>0.010000</td>\n",
       "      <td>0.010000</td>\n",
       "      <td>0.010000</td>\n",
       "      <td>0.747532</td>\n",
       "      <td>0.222468</td>\n",
       "      <td>0.115912</td>\n",
       "    </tr>\n",
       "    <tr>\n",
       "      <th>Risk Parity</th>\n",
       "      <td>0.200000</td>\n",
       "      <td>0.200000</td>\n",
       "      <td>0.200000</td>\n",
       "      <td>0.200000</td>\n",
       "      <td>0.200000</td>\n",
       "      <td>0.000014</td>\n",
       "    </tr>\n",
       "  </tbody>\n",
       "</table>\n",
       "</div>"
      ],
      "text/plain": [
       "                          AAPL      GOOG       IBM      NVDA      TSLA  \\\n",
       "Max Sharpe            0.212822  0.010000  0.010000  0.507455  0.259723   \n",
       "Max (Smart) Sharpe    0.010000  0.010000  0.010000  0.569682  0.400318   \n",
       "Max Omega             0.367592  0.018850  0.313467  0.213552  0.086539   \n",
       "Max (Smart) Omega     0.010000  0.010000  0.201554  0.125307  0.653139   \n",
       "Min VaR (Empirical)   0.010000  0.010000  0.010000  0.389239  0.580761   \n",
       "Min VaR (Parametric)  0.156482  0.217159  0.606359  0.010000  0.010000   \n",
       "Semivariance          0.200000  0.200000  0.200000  0.200000  0.200000   \n",
       "Safety-First          0.221457  0.010000  0.010000  0.501680  0.256863   \n",
       "Max Sortino           0.010000  0.010000  0.010000  0.747532  0.222468   \n",
       "Risk Parity           0.200000  0.200000  0.200000  0.200000  0.200000   \n",
       "\n",
       "                      Optimized Value  \n",
       "Max Sharpe                   1.269909  \n",
       "Max (Smart) Sharpe           1.200539  \n",
       "Max Omega                    1.348117  \n",
       "Max (Smart) Omega            1.205929  \n",
       "Min VaR (Empirical)          0.049680  \n",
       "Min VaR (Parametric)         0.024424  \n",
       "Semivariance                 0.000401  \n",
       "Safety-First                 0.079996  \n",
       "Max Sortino                  0.115912  \n",
       "Risk Parity                  0.000014  "
      ]
     },
     "execution_count": 4,
     "metadata": {},
     "output_type": "execute_result"
    }
   ],
   "source": [
    "optimizations = Asset_allocation.Optimize_Portfolio(method = \"SLSQP\")\n",
    "optimizations"
   ]
  },
  {
   "cell_type": "markdown",
   "id": "7dfe04f7",
   "metadata": {},
   "source": [
    "Usando el mismo timeframe y activos calculamos las metricas con los pesos datos por la optimizacion y verificamos el valor del porceso manual y la class AssetAllocation"
   ]
  },
  {
   "cell_type": "markdown",
   "id": "440e0998",
   "metadata": {},
   "source": [
    "### Sharpe "
   ]
  },
  {
   "cell_type": "code",
   "execution_count": 5,
   "id": "9d83817d",
   "metadata": {},
   "outputs": [
    {
     "data": {
      "text/html": [
       "<div>\n",
       "<style scoped>\n",
       "    .dataframe tbody tr th:only-of-type {\n",
       "        vertical-align: middle;\n",
       "    }\n",
       "\n",
       "    .dataframe tbody tr th {\n",
       "        vertical-align: top;\n",
       "    }\n",
       "\n",
       "    .dataframe thead th {\n",
       "        text-align: right;\n",
       "    }\n",
       "</style>\n",
       "<table border=\"1\" class=\"dataframe\">\n",
       "  <thead>\n",
       "    <tr style=\"text-align: right;\">\n",
       "      <th></th>\n",
       "      <th>AAPL</th>\n",
       "      <th>GOOG</th>\n",
       "      <th>IBM</th>\n",
       "      <th>NVDA</th>\n",
       "      <th>TSLA</th>\n",
       "    </tr>\n",
       "    <tr>\n",
       "      <th>Date</th>\n",
       "      <th></th>\n",
       "      <th></th>\n",
       "      <th></th>\n",
       "      <th></th>\n",
       "      <th></th>\n",
       "    </tr>\n",
       "  </thead>\n",
       "  <tbody>\n",
       "    <tr>\n",
       "      <th>2019-01-03</th>\n",
       "      <td>-0.099607</td>\n",
       "      <td>-0.028484</td>\n",
       "      <td>-0.019964</td>\n",
       "      <td>-0.060417</td>\n",
       "      <td>-0.031472</td>\n",
       "    </tr>\n",
       "    <tr>\n",
       "      <th>2019-01-04</th>\n",
       "      <td>0.042689</td>\n",
       "      <td>0.053786</td>\n",
       "      <td>0.039058</td>\n",
       "      <td>0.064068</td>\n",
       "      <td>0.057697</td>\n",
       "    </tr>\n",
       "    <tr>\n",
       "      <th>2019-01-07</th>\n",
       "      <td>-0.002226</td>\n",
       "      <td>-0.002167</td>\n",
       "      <td>0.007075</td>\n",
       "      <td>0.052940</td>\n",
       "      <td>0.054361</td>\n",
       "    </tr>\n",
       "    <tr>\n",
       "      <th>2019-01-08</th>\n",
       "      <td>0.019063</td>\n",
       "      <td>0.007385</td>\n",
       "      <td>0.014219</td>\n",
       "      <td>-0.024895</td>\n",
       "      <td>0.001164</td>\n",
       "    </tr>\n",
       "    <tr>\n",
       "      <th>2019-01-09</th>\n",
       "      <td>0.016982</td>\n",
       "      <td>-0.001505</td>\n",
       "      <td>0.007177</td>\n",
       "      <td>0.019667</td>\n",
       "      <td>0.009483</td>\n",
       "    </tr>\n",
       "  </tbody>\n",
       "</table>\n",
       "</div>"
      ],
      "text/plain": [
       "                AAPL      GOOG       IBM      NVDA      TSLA\n",
       "Date                                                        \n",
       "2019-01-03 -0.099607 -0.028484 -0.019964 -0.060417 -0.031472\n",
       "2019-01-04  0.042689  0.053786  0.039058  0.064068  0.057697\n",
       "2019-01-07 -0.002226 -0.002167  0.007075  0.052940  0.054361\n",
       "2019-01-08  0.019063  0.007385  0.014219 -0.024895  0.001164\n",
       "2019-01-09  0.016982 -0.001505  0.007177  0.019667  0.009483"
      ]
     },
     "execution_count": 5,
     "metadata": {},
     "output_type": "execute_result"
    }
   ],
   "source": [
    "Weights_Sharpe, Value_Sharpe = optimizations.loc[\"Max Sharpe\"][:-1], optimizations.loc[\"Max Sharpe\"][-1]\n",
    "weights = Weights_Sharpe\n",
    "\n",
    "#retornos de activos\n",
    "returns = asset_prices.pct_change().dropna()\n",
    "returns.head()"
   ]
  },
  {
   "cell_type": "code",
   "execution_count": 6,
   "id": "cea8626d",
   "metadata": {},
   "outputs": [
    {
     "data": {
      "text/plain": [
       "Date\n",
       "2019-01-03   -0.060516\n",
       "2019-01-04    0.057511\n",
       "2019-01-07    0.040559\n",
       "2019-01-08   -0.008058\n",
       "2019-01-09    0.016114\n",
       "dtype: float64"
      ]
     },
     "execution_count": 6,
     "metadata": {},
     "output_type": "execute_result"
    }
   ],
   "source": [
    "#retornos del portafolio\n",
    "portfolio_returns = returns.dot(weights)\n",
    "portfolio_returns.head()"
   ]
  },
  {
   "cell_type": "code",
   "execution_count": 7,
   "id": "439d83a1",
   "metadata": {},
   "outputs": [
    {
     "data": {
      "text/plain": [
       "Date\n",
       "2019-01-03   -0.060774\n",
       "2019-01-04    0.057253\n",
       "2019-01-07    0.040301\n",
       "2019-01-08   -0.008316\n",
       "2019-01-09    0.015856\n",
       "                ...   \n",
       "2023-12-22   -0.004947\n",
       "2023-12-26    0.008062\n",
       "2023-12-27    0.006081\n",
       "2023-12-28   -0.006905\n",
       "2023-12-29   -0.006271\n",
       "Length: 1257, dtype: float64"
      ]
     },
     "execution_count": 7,
     "metadata": {},
     "output_type": "execute_result"
    }
   ],
   "source": [
    "#retornos menos la tasa libre de riesgo diaria\n",
    "excess_returns_daily = portfolio_returns - (rf / 252)\n",
    "excess_returns_daily\n"
   ]
  },
  {
   "cell_type": "code",
   "execution_count": 8,
   "id": "925c6061",
   "metadata": {},
   "outputs": [
    {
     "data": {
      "text/plain": [
       "0.5444137309581191"
      ]
     },
     "execution_count": 8,
     "metadata": {},
     "output_type": "execute_result"
    }
   ],
   "source": [
    "# Anualizamos el promedio  de la resta para obtener rendimiento promedio anual del portafolio\n",
    "excess_returns_annualized = excess_returns_daily.mean() * 252\n",
    "excess_returns_annualized"
   ]
  },
  {
   "cell_type": "code",
   "execution_count": 9,
   "id": "be165234",
   "metadata": {},
   "outputs": [
    {
     "data": {
      "text/plain": [
       "0.42870305271303283"
      ]
     },
     "execution_count": 9,
     "metadata": {},
     "output_type": "execute_result"
    }
   ],
   "source": [
    "# Calculamos volatilidad anual del portafolio\n",
    "portfolio_volatility = portfolio_returns.std() * np.sqrt(252)\n",
    "portfolio_volatility "
   ]
  },
  {
   "cell_type": "code",
   "execution_count": 10,
   "id": "6eb9056f",
   "metadata": {},
   "outputs": [
    {
     "data": {
      "text/plain": [
       "1.2699086874068546"
      ]
     },
     "execution_count": 10,
     "metadata": {},
     "output_type": "execute_result"
    }
   ],
   "source": [
    "# Calculamos Sharpe\n",
    "sharpe_ratio = excess_returns_annualized / portfolio_volatility\n",
    "sharpe_ratio"
   ]
  },
  {
   "cell_type": "code",
   "execution_count": 11,
   "id": "7192063d",
   "metadata": {},
   "outputs": [
    {
     "data": {
      "text/plain": [
       "-0.0"
      ]
     },
     "execution_count": 11,
     "metadata": {},
     "output_type": "execute_result"
    }
   ],
   "source": [
    "# Comparamos\n",
    "round(sharpe_ratio - Value_Sharpe, 10)"
   ]
  },
  {
   "cell_type": "markdown",
   "id": "1362e99c",
   "metadata": {},
   "source": [
    "**Diferencia menor a $ 1e^{-10}$**"
   ]
  },
  {
   "cell_type": "markdown",
   "id": "1800e3ca",
   "metadata": {},
   "source": [
    "### Omega"
   ]
  },
  {
   "cell_type": "code",
   "execution_count": 12,
   "id": "6dcd70fb",
   "metadata": {},
   "outputs": [
    {
     "data": {
      "text/plain": [
       "AAPL    0.367592\n",
       "GOOG    0.018850\n",
       "IBM     0.313467\n",
       "NVDA    0.213552\n",
       "TSLA    0.086539\n",
       "Name: Max Omega, dtype: float64"
      ]
     },
     "execution_count": 12,
     "metadata": {},
     "output_type": "execute_result"
    }
   ],
   "source": [
    "Weights_Omega, Value_Omega = optimizations.loc[\"Max Omega\"][:-1], optimizations.loc[\"Max Omega\"][-1]\n",
    "weights = Weights_Omega\n",
    "\n",
    "weights"
   ]
  },
  {
   "cell_type": "code",
   "execution_count": 13,
   "id": "2afa506e",
   "metadata": {},
   "outputs": [
    {
     "data": {
      "text/html": [
       "<div>\n",
       "<style scoped>\n",
       "    .dataframe tbody tr th:only-of-type {\n",
       "        vertical-align: middle;\n",
       "    }\n",
       "\n",
       "    .dataframe tbody tr th {\n",
       "        vertical-align: top;\n",
       "    }\n",
       "\n",
       "    .dataframe thead th {\n",
       "        text-align: right;\n",
       "    }\n",
       "</style>\n",
       "<table border=\"1\" class=\"dataframe\">\n",
       "  <thead>\n",
       "    <tr style=\"text-align: right;\">\n",
       "      <th></th>\n",
       "      <th>0</th>\n",
       "    </tr>\n",
       "    <tr>\n",
       "      <th>Date</th>\n",
       "      <th></th>\n",
       "    </tr>\n",
       "  </thead>\n",
       "  <tbody>\n",
       "    <tr>\n",
       "      <th>2019-01-03</th>\n",
       "      <td>-0.059035</td>\n",
       "    </tr>\n",
       "    <tr>\n",
       "      <th>2019-01-04</th>\n",
       "      <td>0.047624</td>\n",
       "    </tr>\n",
       "    <tr>\n",
       "      <th>2019-01-07</th>\n",
       "      <td>0.017368</td>\n",
       "    </tr>\n",
       "    <tr>\n",
       "      <th>2019-01-08</th>\n",
       "      <td>0.006388</td>\n",
       "    </tr>\n",
       "    <tr>\n",
       "      <th>2019-01-09</th>\n",
       "      <td>0.013484</td>\n",
       "    </tr>\n",
       "    <tr>\n",
       "      <th>...</th>\n",
       "      <td>...</td>\n",
       "    </tr>\n",
       "    <tr>\n",
       "      <th>2023-12-22</th>\n",
       "      <td>-0.000629</td>\n",
       "    </tr>\n",
       "    <tr>\n",
       "      <th>2023-12-26</th>\n",
       "      <td>0.004396</td>\n",
       "    </tr>\n",
       "    <tr>\n",
       "      <th>2023-12-27</th>\n",
       "      <td>0.002715</td>\n",
       "    </tr>\n",
       "    <tr>\n",
       "      <th>2023-12-28</th>\n",
       "      <td>-0.000927</td>\n",
       "    </tr>\n",
       "    <tr>\n",
       "      <th>2023-12-29</th>\n",
       "      <td>-0.004030</td>\n",
       "    </tr>\n",
       "  </tbody>\n",
       "</table>\n",
       "<p>1257 rows × 1 columns</p>\n",
       "</div>"
      ],
      "text/plain": [
       "                   0\n",
       "Date                \n",
       "2019-01-03 -0.059035\n",
       "2019-01-04  0.047624\n",
       "2019-01-07  0.017368\n",
       "2019-01-08  0.006388\n",
       "2019-01-09  0.013484\n",
       "...              ...\n",
       "2023-12-22 -0.000629\n",
       "2023-12-26  0.004396\n",
       "2023-12-27  0.002715\n",
       "2023-12-28 -0.000927\n",
       "2023-12-29 -0.004030\n",
       "\n",
       "[1257 rows x 1 columns]"
      ]
     },
     "execution_count": 13,
     "metadata": {},
     "output_type": "execute_result"
    }
   ],
   "source": [
    "# Retornos de activos\n",
    "returns = asset_prices.pct_change().dropna()\n",
    "portfolio_returns = pd.DataFrame(returns.dot(weights)) \n",
    "portfolio_returns"
   ]
  },
  {
   "cell_type": "code",
   "execution_count": 14,
   "id": "17b7d652",
   "metadata": {
    "scrolled": false
   },
   "outputs": [
    {
     "data": {
      "text/html": [
       "<div>\n",
       "<style scoped>\n",
       "    .dataframe tbody tr th:only-of-type {\n",
       "        vertical-align: middle;\n",
       "    }\n",
       "\n",
       "    .dataframe tbody tr th {\n",
       "        vertical-align: top;\n",
       "    }\n",
       "\n",
       "    .dataframe thead th {\n",
       "        text-align: right;\n",
       "    }\n",
       "</style>\n",
       "<table border=\"1\" class=\"dataframe\">\n",
       "  <thead>\n",
       "    <tr style=\"text-align: right;\">\n",
       "      <th></th>\n",
       "      <th>^GSPC</th>\n",
       "    </tr>\n",
       "    <tr>\n",
       "      <th>Date</th>\n",
       "      <th></th>\n",
       "    </tr>\n",
       "  </thead>\n",
       "  <tbody>\n",
       "    <tr>\n",
       "      <th>2019-01-03</th>\n",
       "      <td>-0.024757</td>\n",
       "    </tr>\n",
       "    <tr>\n",
       "      <th>2019-01-04</th>\n",
       "      <td>0.034336</td>\n",
       "    </tr>\n",
       "    <tr>\n",
       "      <th>2019-01-07</th>\n",
       "      <td>0.007010</td>\n",
       "    </tr>\n",
       "    <tr>\n",
       "      <th>2019-01-08</th>\n",
       "      <td>0.009695</td>\n",
       "    </tr>\n",
       "    <tr>\n",
       "      <th>2019-01-09</th>\n",
       "      <td>0.004098</td>\n",
       "    </tr>\n",
       "    <tr>\n",
       "      <th>...</th>\n",
       "      <td>...</td>\n",
       "    </tr>\n",
       "    <tr>\n",
       "      <th>2023-12-22</th>\n",
       "      <td>0.001660</td>\n",
       "    </tr>\n",
       "    <tr>\n",
       "      <th>2023-12-26</th>\n",
       "      <td>0.004232</td>\n",
       "    </tr>\n",
       "    <tr>\n",
       "      <th>2023-12-27</th>\n",
       "      <td>0.001430</td>\n",
       "    </tr>\n",
       "    <tr>\n",
       "      <th>2023-12-28</th>\n",
       "      <td>0.000370</td>\n",
       "    </tr>\n",
       "    <tr>\n",
       "      <th>2023-12-29</th>\n",
       "      <td>-0.002826</td>\n",
       "    </tr>\n",
       "  </tbody>\n",
       "</table>\n",
       "<p>1257 rows × 1 columns</p>\n",
       "</div>"
      ],
      "text/plain": [
       "               ^GSPC\n",
       "Date                \n",
       "2019-01-03 -0.024757\n",
       "2019-01-04  0.034336\n",
       "2019-01-07  0.007010\n",
       "2019-01-08  0.009695\n",
       "2019-01-09  0.004098\n",
       "...              ...\n",
       "2023-12-22  0.001660\n",
       "2023-12-26  0.004232\n",
       "2023-12-27  0.001430\n",
       "2023-12-28  0.000370\n",
       "2023-12-29 -0.002826\n",
       "\n",
       "[1257 rows x 1 columns]"
      ]
     },
     "execution_count": 14,
     "metadata": {},
     "output_type": "execute_result"
    }
   ],
   "source": [
    "# Calcular los retornos diarios del benchmark\n",
    "benchmark_returns = benchmark_prices.pct_change().dropna()  \n",
    "benchmark_returns "
   ]
  },
  {
   "cell_type": "code",
   "execution_count": 15,
   "id": "b809da63",
   "metadata": {},
   "outputs": [
    {
     "data": {
      "text/plain": [
       "Date\n",
       "2019-01-03   -0.034279\n",
       "2019-01-04    0.013289\n",
       "2019-01-07    0.010358\n",
       "2019-01-08   -0.003307\n",
       "2019-01-09    0.009386\n",
       "                ...   \n",
       "2023-12-22   -0.002289\n",
       "2023-12-26    0.000164\n",
       "2023-12-27    0.001285\n",
       "2023-12-28   -0.001297\n",
       "2023-12-29   -0.001203\n",
       "Length: 1257, dtype: float64"
      ]
     },
     "execution_count": 15,
     "metadata": {},
     "output_type": "execute_result"
    }
   ],
   "source": [
    "# Obtener diferencia del portafolio respecto al benchmark\n",
    "excess_returns = portfolio_returns[0] -  benchmark_returns[benchmark_returns.columns[0]] \n",
    "excess_returns"
   ]
  },
  {
   "cell_type": "code",
   "execution_count": 16,
   "id": "93b76437",
   "metadata": {},
   "outputs": [
    {
     "data": {
      "text/plain": [
       "(4.787348010463608, 3.5511364726799446)"
      ]
     },
     "execution_count": 16,
     "metadata": {},
     "output_type": "execute_result"
    }
   ],
   "source": [
    "positive_excess = excess_returns[excess_returns > 0].sum()\n",
    "negative_excess = -excess_returns[excess_returns < 0].sum()\n",
    "positive_excess, negative_excess"
   ]
  },
  {
   "cell_type": "code",
   "execution_count": 17,
   "id": "e4f79d02",
   "metadata": {},
   "outputs": [
    {
     "data": {
      "text/plain": [
       "1.3481171583503602"
      ]
     },
     "execution_count": 17,
     "metadata": {},
     "output_type": "execute_result"
    }
   ],
   "source": [
    "omega_ratio = positive_excess / negative_excess\n",
    "omega_ratio"
   ]
  },
  {
   "cell_type": "code",
   "execution_count": 18,
   "id": "6eb50382",
   "metadata": {},
   "outputs": [
    {
     "data": {
      "text/plain": [
       "0.0"
      ]
     },
     "execution_count": 18,
     "metadata": {},
     "output_type": "execute_result"
    }
   ],
   "source": [
    "# Comparamos\n",
    "round(omega_ratio - Value_Omega, 10)"
   ]
  },
  {
   "cell_type": "markdown",
   "id": "23b83fdd",
   "metadata": {},
   "source": [
    "**Diferencia menor a $ 1e^{-10}$**"
   ]
  },
  {
   "cell_type": "markdown",
   "id": "8b1b4801",
   "metadata": {},
   "source": [
    "### Safety First Ratio"
   ]
  },
  {
   "cell_type": "code",
   "execution_count": 19,
   "id": "23ceff8f",
   "metadata": {},
   "outputs": [
    {
     "data": {
      "text/plain": [
       "AAPL    0.221457\n",
       "GOOG    0.010000\n",
       "IBM     0.010000\n",
       "NVDA    0.501680\n",
       "TSLA    0.256863\n",
       "Name: Safety-First, dtype: float64"
      ]
     },
     "execution_count": 19,
     "metadata": {},
     "output_type": "execute_result"
    }
   ],
   "source": [
    "Weights_SFRatio, Value_SFRatio = optimizations.loc[\"Safety-First\"][:-1], optimizations.loc[\"Safety-First\"][-1]\n",
    "weights = Weights_SFRatio\n",
    "\n",
    "weights"
   ]
  },
  {
   "cell_type": "code",
   "execution_count": 20,
   "id": "92c1e747",
   "metadata": {},
   "outputs": [
    {
     "data": {
      "text/html": [
       "<div>\n",
       "<style scoped>\n",
       "    .dataframe tbody tr th:only-of-type {\n",
       "        vertical-align: middle;\n",
       "    }\n",
       "\n",
       "    .dataframe tbody tr th {\n",
       "        vertical-align: top;\n",
       "    }\n",
       "\n",
       "    .dataframe thead th {\n",
       "        text-align: right;\n",
       "    }\n",
       "</style>\n",
       "<table border=\"1\" class=\"dataframe\">\n",
       "  <thead>\n",
       "    <tr style=\"text-align: right;\">\n",
       "      <th></th>\n",
       "      <th>0</th>\n",
       "    </tr>\n",
       "    <tr>\n",
       "      <th>Date</th>\n",
       "      <th></th>\n",
       "    </tr>\n",
       "  </thead>\n",
       "  <tbody>\n",
       "    <tr>\n",
       "      <th>2019-01-03</th>\n",
       "      <td>-0.060937</td>\n",
       "    </tr>\n",
       "    <tr>\n",
       "      <th>2019-01-04</th>\n",
       "      <td>0.057344</td>\n",
       "    </tr>\n",
       "    <tr>\n",
       "      <th>2019-01-07</th>\n",
       "      <td>0.040078</td>\n",
       "    </tr>\n",
       "    <tr>\n",
       "      <th>2019-01-08</th>\n",
       "      <td>-0.007753</td>\n",
       "    </tr>\n",
       "    <tr>\n",
       "      <th>2019-01-09</th>\n",
       "      <td>0.016120</td>\n",
       "    </tr>\n",
       "    <tr>\n",
       "      <th>...</th>\n",
       "      <td>...</td>\n",
       "    </tr>\n",
       "    <tr>\n",
       "      <th>2023-12-22</th>\n",
       "      <td>-0.004696</td>\n",
       "    </tr>\n",
       "    <tr>\n",
       "      <th>2023-12-26</th>\n",
       "      <td>0.008197</td>\n",
       "    </tr>\n",
       "    <tr>\n",
       "      <th>2023-12-27</th>\n",
       "      <td>0.006273</td>\n",
       "    </tr>\n",
       "    <tr>\n",
       "      <th>2023-12-28</th>\n",
       "      <td>-0.006550</td>\n",
       "    </tr>\n",
       "    <tr>\n",
       "      <th>2023-12-29</th>\n",
       "      <td>-0.006007</td>\n",
       "    </tr>\n",
       "  </tbody>\n",
       "</table>\n",
       "<p>1257 rows × 1 columns</p>\n",
       "</div>"
      ],
      "text/plain": [
       "                   0\n",
       "Date                \n",
       "2019-01-03 -0.060937\n",
       "2019-01-04  0.057344\n",
       "2019-01-07  0.040078\n",
       "2019-01-08 -0.007753\n",
       "2019-01-09  0.016120\n",
       "...              ...\n",
       "2023-12-22 -0.004696\n",
       "2023-12-26  0.008197\n",
       "2023-12-27  0.006273\n",
       "2023-12-28 -0.006550\n",
       "2023-12-29 -0.006007\n",
       "\n",
       "[1257 rows x 1 columns]"
      ]
     },
     "execution_count": 20,
     "metadata": {},
     "output_type": "execute_result"
    }
   ],
   "source": [
    "# Retorno del portafolio\n",
    "returns = asset_prices.pct_change().dropna()\n",
    "portfolio_returns = pd.DataFrame(returns.dot(weights)) \n",
    "portfolio_returns"
   ]
  },
  {
   "cell_type": "code",
   "execution_count": 21,
   "id": "9baf9c5e",
   "metadata": {},
   "outputs": [
    {
     "data": {
      "text/plain": [
       "0.002407829565697128"
      ]
     },
     "execution_count": 21,
     "metadata": {},
     "output_type": "execute_result"
    }
   ],
   "source": [
    "# Retorno del portafolio\n",
    "portfolio_return = portfolio_returns.mean().item()\n",
    "portfolio_return"
   ]
  },
  {
   "cell_type": "code",
   "execution_count": 22,
   "id": "379a7234",
   "metadata": {},
   "outputs": [
    {
     "data": {
      "text/plain": [
       "0.00025793650793650796"
      ]
     },
     "execution_count": 22,
     "metadata": {},
     "output_type": "execute_result"
    }
   ],
   "source": [
    "# Retorno Mínimo Aceptable (MAR)\n",
    "MAF = rf / 252\n",
    "MAF"
   ]
  },
  {
   "cell_type": "code",
   "execution_count": 23,
   "id": "cb2e4314",
   "metadata": {},
   "outputs": [
    {
     "data": {
      "text/plain": [
       "0.026875169300777876"
      ]
     },
     "execution_count": 23,
     "metadata": {},
     "output_type": "execute_result"
    }
   ],
   "source": [
    "# Volatilidad del portafolio\n",
    "cov_matrix = returns.cov()\n",
    "portfolio_vol = np.sqrt(np.dot(weights.T, np.dot(cov_matrix, weights)))\n",
    "portfolio_vol"
   ]
  },
  {
   "cell_type": "code",
   "execution_count": 24,
   "id": "e0f18010",
   "metadata": {},
   "outputs": [
    {
     "name": "stdout",
     "output_type": "stream",
     "text": [
      "Safety First Ratio: 0.0799955168170194\n"
     ]
    }
   ],
   "source": [
    "# Calculamos el SFratio\n",
    "SFratio = (portfolio_return - MAF) / portfolio_vol\n",
    "\n",
    "print(f\"Safety First Ratio: {SFratio}\")"
   ]
  },
  {
   "cell_type": "code",
   "execution_count": 25,
   "id": "a987784b",
   "metadata": {},
   "outputs": [
    {
     "data": {
      "text/plain": [
       "-0.0"
      ]
     },
     "execution_count": 25,
     "metadata": {},
     "output_type": "execute_result"
    }
   ],
   "source": [
    "# Comparamos\n",
    "round(SFratio - Value_SFRatio, 10)"
   ]
  },
  {
   "cell_type": "markdown",
   "id": "34c8ec9f",
   "metadata": {},
   "source": [
    "**Diferencia menor a $ 1e^{-10}$**"
   ]
  },
  {
   "cell_type": "code",
   "execution_count": null,
   "id": "bd9324e6",
   "metadata": {},
   "outputs": [],
   "source": []
  },
  {
   "cell_type": "code",
   "execution_count": null,
   "id": "541738ad",
   "metadata": {},
   "outputs": [],
   "source": []
  }
 ],
 "metadata": {
  "kernelspec": {
   "display_name": "Python 3 (ipykernel)",
   "language": "python",
   "name": "python3"
  },
  "language_info": {
   "codemirror_mode": {
    "name": "ipython",
    "version": 3
   },
   "file_extension": ".py",
   "mimetype": "text/x-python",
   "name": "python",
   "nbconvert_exporter": "python",
   "pygments_lexer": "ipython3",
   "version": "3.9.13"
  }
 },
 "nbformat": 4,
 "nbformat_minor": 5
}
